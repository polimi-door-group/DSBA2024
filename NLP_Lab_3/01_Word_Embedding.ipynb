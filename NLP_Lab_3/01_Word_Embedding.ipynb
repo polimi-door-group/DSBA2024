{
 "cells": [
  {
   "cell_type": "markdown",
   "metadata": {},
   "source": [
    "# Word2vec"
   ]
  },
  {
   "cell_type": "code",
   "execution_count": 1,
   "metadata": {},
   "outputs": [],
   "source": [
    "sentences = [['this', 'is', 'a', 'first', 'example', 'of', 'text'],\n",
    "    ['this', 'is', 'the', 'second', 'example'],\n",
    "    ['it\\'s','now','more','than','two'],\n",
    "    ['yet', 'another', 'example'],\n",
    "    ['one', 'more', 'example'],\n",
    "    ['and', 'the', 'final', 'example']]"
   ]
  },
  {
   "cell_type": "code",
   "execution_count": 2,
   "metadata": {
    "scrolled": true
   },
   "outputs": [
    {
     "name": "stdout",
     "output_type": "stream",
     "text": [
      "Word2Vec<vocab=19, vector_size=10, alpha=0.025>\n"
     ]
    }
   ],
   "source": [
    "from gensim.models import Word2Vec\n",
    "\n",
    "model = Word2Vec(sentences, min_count=1, vector_size=10,window=3)\n",
    "print(model)\n"
   ]
  },
  {
   "cell_type": "code",
   "execution_count": 3,
   "metadata": {},
   "outputs": [
    {
     "name": "stdout",
     "output_type": "stream",
     "text": [
      "['example', 'this', 'is', 'more', 'the', 'second', 'a', 'first', 'of', 'text', 'final', 'and', 'now', 'than', 'two', 'yet', 'another', 'one', \"it's\"]\n"
     ]
    }
   ],
   "source": [
    "words = list(model.wv.key_to_index)\n",
    "print(words)\n",
    "\n"
   ]
  },
  {
   "cell_type": "code",
   "execution_count": 4,
   "metadata": {},
   "outputs": [
    {
     "name": "stdout",
     "output_type": "stream",
     "text": [
      "v(final)=[-0.08619688  0.03665738  0.05189884  0.05741937  0.07466917 -0.06167676\n",
      "  0.01105614  0.06047282 -0.02840052 -0.06173522]\n"
     ]
    }
   ],
   "source": [
    "\n",
    "print(\"v(final)=\"+str(model.wv['final']))\n",
    "\n",
    "# save model\n",
    "model.save('model.bin')"
   ]
  },
  {
   "cell_type": "code",
   "execution_count": 5,
   "metadata": {},
   "outputs": [
    {
     "name": "stdout",
     "output_type": "stream",
     "text": [
      "Word2Vec<vocab=19, vector_size=10, alpha=0.025>\n"
     ]
    }
   ],
   "source": [
    "# load model\n",
    "new_model = Word2Vec.load('model.bin')\n",
    "print(new_model)"
   ]
  },
  {
   "cell_type": "code",
   "execution_count": 6,
   "metadata": {},
   "outputs": [],
   "source": [
    "X = model.wv[new_model.wv.key_to_index]"
   ]
  },
  {
   "cell_type": "code",
   "execution_count": 7,
   "metadata": {},
   "outputs": [
    {
     "data": {
      "text/plain": [
       "(19, 10)"
      ]
     },
     "execution_count": 7,
     "metadata": {},
     "output_type": "execute_result"
    }
   ],
   "source": [
    "X.shape"
   ]
  },
  {
   "cell_type": "code",
   "execution_count": 8,
   "metadata": {},
   "outputs": [
    {
     "data": {
      "image/png": "[encoded data removed]",
      "text/plain": [
       "<Figure size 432x288 with 1 Axes>"
      ]
     },
     "metadata": {
      "needs_background": "light"
     },
     "output_type": "display_data"
    }
   ],
   "source": [
    "import numpy as np\n",
    "from sklearn.decomposition import PCA\n",
    "import matplotlib.pyplot as plt\n",
    "%matplotlib inline\n",
    "\n",
    "pca = PCA(n_components=2)\n",
    "result = pca.fit_transform(X)\n",
    "plt.scatter(result[:, 0], result[:, 1])\n",
    "words = list(model.wv.key_to_index)\n",
    "for i, word in enumerate(words):\n",
    "    plt.annotate(word, xy=(result[i, 0], result[i, 1]))"
   ]
  },
  {
   "cell_type": "code",
   "execution_count": 9,
   "metadata": {},
   "outputs": [],
   "source": [
    "import gensim.downloader as api"
   ]
  },
  {
   "cell_type": "code",
   "execution_count": 10,
   "metadata": {},
   "outputs": [],
   "source": [
    "corpus = api.load('text8')"
   ]
  },
  {
   "cell_type": "code",
   "execution_count": 11,
   "metadata": {},
   "outputs": [
    {
     "data": {
      "text/plain": [
       "text8.Dataset"
      ]
     },
     "execution_count": 11,
     "metadata": {},
     "output_type": "execute_result"
    }
   ],
   "source": [
    "type(corpus)\n"
   ]
  },
  {
   "cell_type": "code",
   "execution_count": 12,
   "metadata": {},
   "outputs": [],
   "source": [
    "from gensim.models.word2vec import Word2Vec\n",
    "model8= Word2Vec(corpus)"
   ]
  },
  {
   "cell_type": "code",
   "execution_count": 13,
   "metadata": {},
   "outputs": [
    {
     "data": {
      "text/plain": [
       "array([-0.23079398, -0.43970823,  2.2798924 , -1.5483826 ,  0.06246279,\n",
       "       -0.51891595, -0.1913694 , -1.2148767 , -1.5664415 , -2.2519214 ,\n",
       "        0.7698397 , -1.5267763 ,  0.6133938 ,  1.4659061 , -1.7068994 ,\n",
       "        4.194958  ,  2.244953  , -0.0511989 ,  0.3770506 ,  0.341617  ,\n",
       "       -0.65488636,  0.1569228 , -0.86111146, -2.3984036 , -0.5889176 ,\n",
       "        0.0737632 ,  0.22499001, -0.0317995 , -1.1472272 , -0.64464504,\n",
       "        1.4044857 , -0.02428154,  1.1975864 , -1.3938736 ,  1.4510269 ,\n",
       "        0.63994503,  0.13123307, -0.8164454 , -1.3898686 , -0.6661112 ,\n",
       "       -0.13271001, -2.400223  , -0.10032653, -0.31900826,  0.19541106,\n",
       "        0.87513006,  0.9774659 , -0.25845718,  0.10798106,  0.03481791,\n",
       "       -1.6733944 , -0.16540797, -0.15120338,  2.1754777 ,  0.65360737,\n",
       "       -0.75440717, -0.8159251 ,  0.9946306 , -3.1527126 ,  0.96312714,\n",
       "       -2.6075635 , -0.41759828, -0.40050405,  3.487102  , -0.69065994,\n",
       "       -1.6393697 , -0.23112343, -1.6879632 ,  1.5670875 , -1.3701859 ,\n",
       "       -0.24943273, -0.08097264,  0.3983445 , -0.19172549, -0.24179822,\n",
       "        0.22402652,  0.8928583 , -0.8242274 , -0.16501848,  1.7179303 ,\n",
       "        0.45033816,  0.60227036, -1.5675348 ,  0.57173854, -0.2272799 ,\n",
       "       -1.0432776 , -0.0883099 ,  2.466733  ,  1.2687172 , -0.3371894 ,\n",
       "       -2.4309661 , -0.8724611 , -0.866977  , -0.46193266,  3.9371927 ,\n",
       "       -0.05364288,  0.7753753 , -1.0103155 , -0.19042376,  2.4375381 ],\n",
       "      dtype=float32)"
      ]
     },
     "execution_count": 13,
     "metadata": {},
     "output_type": "execute_result"
    }
   ],
   "source": [
    "model8.wv['tree']"
   ]
  },
  {
   "cell_type": "code",
   "execution_count": 14,
   "metadata": {},
   "outputs": [
    {
     "name": "stdout",
     "output_type": "stream",
     "text": [
      "[('trees', 0.7130633592605591), ('leaf', 0.6996258497238159), ('fruit', 0.6304346323013306), ('flower', 0.6301509141921997), ('bird', 0.6226281523704529), ('bark', 0.620945930480957), ('calf', 0.6128720641136169), ('sap', 0.60650634765625), ('cactus', 0.6047248244285583), ('tooth', 0.5985922813415527)]\n"
     ]
    }
   ],
   "source": [
    "print(model8.wv.most_similar('tree'))"
   ]
  },
  {
   "cell_type": "code",
   "execution_count": 15,
   "metadata": {},
   "outputs": [
    {
     "name": "stdout",
     "output_type": "stream",
     "text": [
      "cereal\n"
     ]
    }
   ],
   "source": [
    "print(model8.wv.doesnt_match(\"breakfast cereal dinner lunch\".split()))"
   ]
  },
  {
   "cell_type": "markdown",
   "metadata": {},
   "source": [
    "# Analogies"
   ]
  },
  {
   "cell_type": "code",
   "execution_count": 16,
   "metadata": {},
   "outputs": [
    {
     "name": "stdout",
     "output_type": "stream",
     "text": [
      "[('queen', 0.6678013801574707), ('princess', 0.6208376884460449), ('elizabeth', 0.6116613149642944)]\n"
     ]
    }
   ],
   "source": [
    "#v(king)-v(man)+v(woman)\n",
    "print(model8.wv.most_similar(positive=['king', 'woman'], negative=['man'], topn=3))"
   ]
  },
  {
   "cell_type": "code",
   "execution_count": 17,
   "metadata": {},
   "outputs": [
    {
     "name": "stdout",
     "output_type": "stream",
     "text": [
      "[('mclaren', 0.6766727566719055), ('chevrolet', 0.6559633016586304), ('scuderia', 0.6519873142242432)]\n"
     ]
    }
   ],
   "source": [
    "print(model8.wv.most_similar(positive=['italy', 'renault'], negative=['france'], topn=3))\n"
   ]
  },
  {
   "cell_type": "code",
   "execution_count": 18,
   "metadata": {},
   "outputs": [
    {
     "name": "stdout",
     "output_type": "stream",
     "text": [
      "[('bologna', 0.7581573128700256), ('toulouse', 0.7570486068725586), ('paris', 0.7516875863075256)]\n"
     ]
    }
   ],
   "source": [
    "print(model8.wv.most_similar(positive=['france', 'venice'], negative=['italy'], topn=3))\n"
   ]
  },
  {
   "cell_type": "code",
   "execution_count": 19,
   "metadata": {},
   "outputs": [
    {
     "name": "stdout",
     "output_type": "stream",
     "text": [
      "[('dj', 0.6649004817008972), ('promotional', 0.5842692852020264), ('unplugged', 0.57940274477005)]\n"
     ]
    }
   ],
   "source": [
    "print(model8.wv.most_similar(positive=['usa', 'beatles'], negative=['england'], topn=3))"
   ]
  },
  {
   "cell_type": "code",
   "execution_count": 20,
   "metadata": {},
   "outputs": [
    {
     "data": {
      "text/plain": [
       "[('iie', 0.6616296172142029),\n",
       " ('mcintosh', 0.636538565158844),\n",
       " ('jaguar', 0.6284868717193604),\n",
       " ('logo', 0.620890736579895),\n",
       " ('rum', 0.6114639043807983),\n",
       " ('coleco', 0.6058065295219421),\n",
       " ('nes', 0.6022999882698059),\n",
       " ('lotus', 0.601905345916748),\n",
       " ('nintendo', 0.5978764295578003),\n",
       " ('mazda', 0.5899168252944946)]"
      ]
     },
     "execution_count": 20,
     "metadata": {},
     "output_type": "execute_result"
    }
   ],
   "source": [
    "model8.wv.most_similar(['apple','orange'])"
   ]
  },
  {
   "cell_type": "markdown",
   "metadata": {},
   "source": [
    "##  Loading pre-trained models"
   ]
  },
  {
   "cell_type": "code",
   "execution_count": null,
   "metadata": {},
   "outputs": [],
   "source": [
    "# Load pretrained model GoogleNews-vectors-negative300.bin.gz\n",
    "# available at https://code.google.com/archive/p/word2vec/ (1.5 GB)\n",
    "\n",
    "from gensim.models import KeyedVectors\n",
    "model = KeyedVectors.load_word2vec_format('GoogleNews-vectors-negative300.bin', binary=True)"
   ]
  },
  {
   "cell_type": "code",
   "execution_count": 22,
   "metadata": {},
   "outputs": [
    {
     "name": "stdout",
     "output_type": "stream",
     "text": [
      "[('trees', 0.829312264919281), ('pine_tree', 0.7622087001800537), ('oak_tree', 0.731893002986908), ('evergreen_tree', 0.6926872730255127), ('fir_tree', 0.6917218565940857), ('willow_tree', 0.6845874786376953), ('pine_trees', 0.6824266910552979), ('maple_tree', 0.6803498864173889), ('sycamore_tree', 0.6681811213493347), ('tress', 0.6547872424125671)]\n"
     ]
    }
   ],
   "source": [
    "print(model.most_similar('tree'))"
   ]
  },
  {
   "cell_type": "code",
   "execution_count": 23,
   "metadata": {},
   "outputs": [
    {
     "name": "stdout",
     "output_type": "stream",
     "text": [
      "[('Monarchy', 0.4897083640098572), ('constitutional_monarchy', 0.48723939061164856), ('royalists', 0.45945391058921814)]\n"
     ]
    }
   ],
   "source": [
    "print(model.most_similar(positive=['germany', 'monarchy'], negative=['netherlands'], topn=3))\n"
   ]
  },
  {
   "cell_type": "code",
   "execution_count": 24,
   "metadata": {},
   "outputs": [
    {
     "name": "stdout",
     "output_type": "stream",
     "text": [
      "[('radiohead', 0.5180865526199341), ('metallica', 0.511135458946228), ('quinto', 0.5088788866996765)]\n"
     ]
    }
   ],
   "source": [
    "print(model.most_similar(positive=['italy', 'beatles'], negative=['england'], topn=3))\n"
   ]
  },
  {
   "cell_type": "markdown",
   "metadata": {},
   "source": [
    "### Glove"
   ]
  },
  {
   "cell_type": "code",
   "execution_count": null,
   "metadata": {},
   "outputs": [
    {
     "name": "stderr",
     "output_type": "stream",
     "text": [
      "/tmp/ipykernel_1583278/2104477813.py:6: DeprecationWarning: Call to deprecated `glove2word2vec` (KeyedVectors.load_word2vec_format(.., binary=False, no_header=True) loads GLoVE text vectors.).\n",
      "  glove2word2vec(glove_input_file, word2vec_output_file)\n"
     ]
    },
    {
     "data": {
      "text/plain": [
       "(1917494, 300)"
      ]
     },
     "execution_count": 21,
     "metadata": {},
     "output_type": "execute_result"
    }
   ],
   "source": [
    "# https://nlp.stanford.edu/projects/glove/\n",
    "\n",
    "# converting format from glove to w2v\n",
    "\n",
    "#from gensim.scripts.glove2word2vec import glove2word2vec\n",
    "#glove_input_file = 'glove.42B.300d.txt'\n",
    "#word2vec_output_file = 'glove.42B.300d.txt.word2vec'\n",
    "#glove2word2vec(glove_input_file, word2vec_output_file)"
   ]
  },
  {
   "cell_type": "code",
   "execution_count": null,
   "metadata": {},
   "outputs": [
    {
     "name": "stdout",
     "output_type": "stream",
     "text": [
      "[('queen', 0.7833545207977295)]\n"
     ]
    }
   ],
   "source": [
    "from gensim.models import KeyedVectors\n",
    "\n",
    "filename = 'glove.42B.300d.txt.word2vec'\n",
    "# github: https://github.com/stanfordnlp/GloVe\n",
    "# available at https://huggingface.co/stanfordnlp/glove/resolve/main/glove.42B.300d.zip (1.75 GB)\n",
    "# or https://nlp.stanford.edu/data/glove.42B.300d.zip\n",
    "\n",
    "model = KeyedVectors.load_word2vec_format(filename, binary=False)\n",
    "\n",
    "result = model.most_similar(positive=['woman', 'king'], negative=['man'], topn=1)\n",
    "print(result)"
   ]
  },
  {
   "cell_type": "code",
   "execution_count": 23,
   "metadata": {},
   "outputs": [
    {
     "name": "stdout",
     "output_type": "stream",
     "text": [
      "[('trees', 0.834145724773407), ('branches', 0.6109411716461182), ('leaf', 0.6104052066802979), ('pine', 0.6100702285766602), ('forest', 0.5894954800605774), ('garden', 0.5828163623809814), ('vine', 0.5765968561172485), ('branch', 0.5740603804588318), ('flower', 0.5736389756202698), ('willow', 0.5727055668830872)]\n"
     ]
    }
   ],
   "source": [
    "print(model.most_similar('tree'))"
   ]
  },
  {
   "cell_type": "code",
   "execution_count": null,
   "metadata": {},
   "outputs": [],
   "source": []
  },
  {
   "cell_type": "markdown",
   "metadata": {},
   "source": [
    "### doc2vec"
   ]
  },
  {
   "cell_type": "code",
   "execution_count": 4,
   "metadata": {},
   "outputs": [
    {
     "name": "stdout",
     "output_type": "stream",
     "text": [
      "Document 1 : This is the first document\n",
      "Vector: [ 0.01829372  0.01898625 -0.01015439 -0.02139979 -0.00219488 -0.01278661\n",
      "  0.0057653   0.00376999  0.01010406 -0.0139157   0.0149696  -0.00375327\n",
      "  0.01521769  0.01674412  0.00122827 -0.00897841  0.01651305 -0.01268177\n",
      " -0.00968535  0.01601388]\n",
      "\n",
      "Document 2 : This is the second document\n",
      "Vector: [-0.02194232 -0.00161561 -0.004956   -0.02052376 -0.01844925 -0.00861808\n",
      " -0.00752903  0.00610552  0.00801064 -0.01666425 -0.01200165 -0.0116139\n",
      "  0.01689893  0.01475287 -0.01185068 -0.02328943 -0.01243623  0.00913869\n",
      " -0.00036527  0.02297601]\n",
      "\n",
      "Document 3 : This is the third document\n",
      "Vector: [ 0.01136813  0.02225649  0.01151399  0.00395306  0.01601991 -0.00457977\n",
      "  0.01904687 -0.00682187 -0.00727036  0.0126621   0.00353148 -0.00427921\n",
      " -0.01149058 -0.02284315  0.00797717  0.0008119  -0.00853441 -0.01248294\n",
      " -0.01282259  0.0243165 ]\n",
      "\n",
      "Document 4 : This is the fourth document\n",
      "Vector: [ 0.00805911  0.0239163   0.01924852 -0.00192382 -0.00353936  0.00352467\n",
      " -0.02398873 -0.01031305  0.01340743 -0.02230245 -0.00334037 -0.0212332\n",
      " -0.0236028  -0.00135073  0.01854437  0.0076906  -0.02210475 -0.02064111\n",
      " -0.00312749  0.01917218]\n",
      "\n"
     ]
    }
   ],
   "source": [
    "from gensim.models.doc2vec import Doc2Vec,\\\n",
    "    TaggedDocument\n",
    "from nltk.tokenize import word_tokenize\n",
    "\n",
    "# define a list of documents.\n",
    "data = [\"This is the first document\",\n",
    "        \"This is the second document\",\n",
    "        \"This is the third document\",\n",
    "        \"This is the fourth document\"]\n",
    "\n",
    "# preproces the documents, and create TaggedDocuments\n",
    "tagged_data = [TaggedDocument(words=word_tokenize(doc.lower()),\n",
    "                              tags=[str(i)]) for i,\n",
    "               doc in enumerate(data)]\n",
    "\n",
    "# train the Doc2vec model\n",
    "model = Doc2Vec(vector_size=20,\n",
    "                min_count=2, epochs=50)\n",
    "model.build_vocab(tagged_data)\n",
    "model.train(tagged_data,\n",
    "            total_examples=model.corpus_count,\n",
    "            epochs=model.epochs)\n",
    "\n",
    "# get the document vectors\n",
    "document_vectors = [model.infer_vector(\n",
    "    word_tokenize(doc.lower())) for doc in data]\n",
    "\n",
    "#  print the document vectors\n",
    "for i, doc in enumerate(data):\n",
    "    print(\"Document\", i+1, \":\", doc)\n",
    "    print(\"Vector:\", document_vectors[i])\n",
    "    print()"
   ]
  },
  {
   "cell_type": "code",
   "execution_count": null,
   "metadata": {},
   "outputs": [],
   "source": []
  }
 ],
 "metadata": {
  "kernelspec": {
   "display_name": "base",
   "language": "python",
   "name": "python3"
  },
  "language_info": {
   "codemirror_mode": {
    "name": "ipython",
    "version": 3
   },
   "file_extension": ".py",
   "mimetype": "text/x-python",
   "name": "python",
   "nbconvert_exporter": "python",
   "pygments_lexer": "ipython3",
   "version": "3.12.7"
  },
  "toc": {
   "nav_menu": {},
   "number_sections": true,
   "sideBar": true,
   "skip_h1_title": false,
   "toc_cell": false,
   "toc_position": {},
   "toc_section_display": "block",
   "toc_window_display": false
  },
  "varInspector": {
   "cols": {
    "lenName": 16,
    "lenType": 16,
    "lenVar": 40
   },
   "kernels_config": {
    "python": {
     "delete_cmd_postfix": "",
     "delete_cmd_prefix": "del ",
     "library": "var_list.py",
     "varRefreshCmd": "print(var_dic_list())"
    },
    "r": {
     "delete_cmd_postfix": ") ",
     "delete_cmd_prefix": "rm(",
     "library": "var_list.r",
     "varRefreshCmd": "cat(var_dic_list()) "
    }
   },
   "types_to_exclude": [
    "module",
    "function",
    "builtin_function_or_method",
    "instance",
    "_Feature"
   ],
   "window_display": false
  }
 },
 "nbformat": 4,
 "nbformat_minor": 2
}
