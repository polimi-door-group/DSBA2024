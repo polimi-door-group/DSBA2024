{
 "cells": [
  {
   "cell_type": "markdown",
   "metadata": {},
   "source": [
    "# Introduction to NLP"
   ]
  },
  {
   "cell_type": "code",
   "execution_count": 1,
   "metadata": {},
   "outputs": [],
   "source": [
    "#import sys\n",
    "#!conda install --yes --prefix {sys.prefix} nltk"
   ]
  },
  {
   "cell_type": "code",
   "execution_count": 2,
   "metadata": {},
   "outputs": [
    {
     "name": "stderr",
     "output_type": "stream",
     "text": [
      "[nltk_data] Downloading package wordnet to\n",
      "[nltk_data]     C:\\Users\\HP.DESKTOP-\n",
      "[nltk_data]     G8GFKGS\\AppData\\Roaming\\nltk_data...\n"
     ]
    },
    {
     "data": {
      "text/plain": [
       "True"
      ]
     },
     "execution_count": 2,
     "metadata": {},
     "output_type": "execute_result"
    }
   ],
   "source": [
    "import nltk\n",
    "nltk.download('wordnet')"
   ]
  },
  {
   "cell_type": "code",
   "execution_count": 3,
   "metadata": {},
   "outputs": [
    {
     "name": "stdout",
     "output_type": "stream",
     "text": [
      "noun: general, full_general\n",
      "noun: general, superior_general\n",
      "noun: general\n",
      "verb: general\n",
      "adj: general\n",
      "adj(s): general\n",
      "adj(s): general\n",
      "adj: general\n",
      "adj(s): general\n",
      "adj(s): cosmopolitan, ecumenical, oecumenical, general, universal, worldwide, world-wide\n"
     ]
    }
   ],
   "source": [
    "from nltk.corpus import wordnet as wn\n",
    "poses = { 'n':'noun', 'v':'verb', 's':'adj(s)', 'a':'adj', 'r':'adv'}\n",
    "# synsets: cognitive synonyms, each expressing a distinct concept\n",
    "for synset in wn.synsets(\"general\"):\n",
    "    print(\"{}: {}\".format(poses[synset.pos()], \", \".join([l.name() for l in synset.lemmas()])))"
   ]
  },
  {
   "cell_type": "code",
   "execution_count": 4,
   "metadata": {},
   "outputs": [
    {
     "data": {
      "text/plain": [
       "[Synset('general_officer.n.01'),\n",
       " Synset('commissioned_military_officer.n.01'),\n",
       " Synset('commissioned_officer.n.01'),\n",
       " Synset('military_officer.n.01'),\n",
       " Synset('serviceman.n.01'),\n",
       " Synset('skilled_worker.n.01'),\n",
       " Synset('worker.n.01'),\n",
       " Synset('person.n.01'),\n",
       " Synset('organism.n.01'),\n",
       " Synset('causal_agent.n.01'),\n",
       " Synset('living_thing.n.01'),\n",
       " Synset('physical_entity.n.01'),\n",
       " Synset('whole.n.02'),\n",
       " Synset('entity.n.01'),\n",
       " Synset('object.n.01')]"
      ]
     },
     "execution_count": 4,
     "metadata": {},
     "output_type": "execute_result"
    }
   ],
   "source": [
    "from nltk.corpus import wordnet as wn\n",
    "\n",
    "general = wn.synset(\"general.n.1\")\n",
    "\n",
    "hyper = lambda s: s.hypernyms()\n",
    "list(general.closure(hyper))"
   ]
  },
  {
   "cell_type": "code",
   "execution_count": 5,
   "metadata": {},
   "outputs": [
    {
     "data": {
      "text/plain": [
       "[Synset('blucher.n.01')]"
      ]
     },
     "execution_count": 5,
     "metadata": {},
     "output_type": "execute_result"
    }
   ],
   "source": [
    "hypo = lambda s: s.hyponyms()\n",
    "list(general.closure(hypo))\n",
    "\n",
    "# Data Gathering"
   ]
  },
  {
   "cell_type": "code",
   "execution_count": 7,
   "metadata": {},
   "outputs": [
    {
     "name": "stderr",
     "output_type": "stream",
     "text": [
      "[nltk_data] Downloading package omw-1.4 to\n",
      "[nltk_data]     C:\\Users\\HP.DESKTOP-\n",
      "[nltk_data]     G8GFKGS\\AppData\\Roaming\\nltk_data...\n"
     ]
    },
    {
     "name": "stdout",
     "output_type": "stream",
     "text": [
      "noun: apprehension, arrest, catch, collar, pinch, taking_into_custody\n",
      "noun: locking, lockup\n",
      "adj(s): inactive, motionless, static, still\n",
      "adj(s): firm, steadfast, steady, stiff, unbendable, unfaltering, unshakable, unwavering\n",
      "noun: catch\n"
     ]
    }
   ],
   "source": [
    "nltk.download('omw-1.4') # Open Multilingual Wordnet: different languages \n",
    "\n",
    "for synset in wn.synsets(\"fermo\", lang=\"ita\"):\n",
    "    print(\"{}: {}\".format(poses[synset.pos()], \", \".join([l.name() for l in synset.lemmas()])))"
   ]
  },
  {
   "cell_type": "markdown",
   "metadata": {},
   "source": [
    "# Gathering lyrics data"
   ]
  },
  {
   "cell_type": "markdown",
   "metadata": {},
   "source": [
    "In this example we will use song lyrics in our analysis.\n",
    "In python a couple of alternatives for lyrics scraping are\n",
    "\n",
    "- lyricsgenius\n",
    "- lyricsmaster \n",
    "\n",
    "you can install them using: "
   ]
  },
  {
   "cell_type": "code",
   "execution_count": 7,
   "metadata": {},
   "outputs": [
    {
     "name": "stdout",
     "output_type": "stream",
     "text": [
      "Requirement already satisfied: lyricsgenius in /home/andrea/anaconda3/lib/python3.9/site-packages (3.0.1)\n",
      "Requirement already satisfied: requests>=2.20.0 in /home/andrea/anaconda3/lib/python3.9/site-packages (from lyricsgenius) (2.26.0)\n",
      "Requirement already satisfied: beautifulsoup4>=4.6.0 in /home/andrea/anaconda3/lib/python3.9/site-packages (from lyricsgenius) (4.10.0)\n",
      "Requirement already satisfied: soupsieve>1.2 in /home/andrea/anaconda3/lib/python3.9/site-packages (from beautifulsoup4>=4.6.0->lyricsgenius) (2.2.1)\n",
      "Requirement already satisfied: charset-normalizer~=2.0.0 in /home/andrea/anaconda3/lib/python3.9/site-packages (from requests>=2.20.0->lyricsgenius) (2.0.4)\n",
      "Requirement already satisfied: certifi>=2017.4.17 in /home/andrea/anaconda3/lib/python3.9/site-packages (from requests>=2.20.0->lyricsgenius) (2023.5.7)\n",
      "Requirement already satisfied: idna<4,>=2.5 in /home/andrea/anaconda3/lib/python3.9/site-packages (from requests>=2.20.0->lyricsgenius) (3.2)\n",
      "Requirement already satisfied: urllib3<1.27,>=1.21.1 in /home/andrea/anaconda3/lib/python3.9/site-packages (from requests>=2.20.0->lyricsgenius) (1.26.7)\n"
     ]
    }
   ],
   "source": [
    "# Install the package in the current Jupyter kernel\n",
    "import sys\n",
    "#!conda config --append channels conda-forge\n",
    "#!conda install --yes --prefix {sys.prefix} lyricsgenius\n",
    "\n",
    "!{sys.executable} -m pip install lyricsgenius"
   ]
  },
  {
   "cell_type": "markdown",
   "metadata": {},
   "source": [
    "## Lyricsgenius"
   ]
  },
  {
   "cell_type": "code",
   "execution_count": 12,
   "metadata": {},
   "outputs": [
    {
     "name": "stdout",
     "output_type": "stream",
     "text": [
      "Searching for songs by Michael Jackson...\n",
      "\n",
      "Song 1: \"Billie Jean\"\n",
      "Song 2: \"Smooth Criminal\"\n",
      "\n",
      "Reached user-specified song limit (2).\n",
      "Done. Found 2 songs.\n"
     ]
    }
   ],
   "source": [
    "# Get a API client-key at http://genius.com/api-clients  \n",
    "import lyricsgenius\n",
    "\n",
    "genius = lyricsgenius.Genius(\"your-api-secret\")\n",
    "\n",
    "artist='Michael Jackson'\n",
    "\n",
    "g_artist = genius.search_artist(artist, max_songs=2)"
   ]
  },
  {
   "cell_type": "code",
   "execution_count": 26,
   "metadata": {},
   "outputs": [
    {
     "data": {
      "text/plain": [
       "['annotation_count',\n",
       " 'api_path',\n",
       " 'artist',\n",
       " 'full_title',\n",
       " 'header_image_thumbnail_url',\n",
       " 'header_image_url',\n",
       " 'id',\n",
       " 'lyrics',\n",
       " 'lyrics_owner_id',\n",
       " 'lyrics_state',\n",
       " 'path',\n",
       " 'primary_artist',\n",
       " 'pyongs_count',\n",
       " 'save_lyrics',\n",
       " 'song_art_image_thumbnail_url',\n",
       " 'song_art_image_url',\n",
       " 'stats',\n",
       " 'title',\n",
       " 'title_with_featured',\n",
       " 'to_dict',\n",
       " 'to_json',\n",
       " 'to_text',\n",
       " 'url']"
      ]
     },
     "execution_count": 26,
     "metadata": {},
     "output_type": "execute_result"
    }
   ],
   "source": [
    "dir(g_artist.songs[0])[32:]"
   ]
  },
  {
   "cell_type": "code",
   "execution_count": 27,
   "metadata": {},
   "outputs": [
    {
     "data": {
      "text/plain": [
       "'247 ContributorsTranslationsEspañolPortuguêsHebrewEnglishBillie Jean Lyrics[Verse 1]\\nShe was more like a beauty queen from a movie scene\\nI said, \"Don\\'t mind, but what do you mean, I am the one\\nWho will dance on the floor in the round?\"\\nShe said I am the one\\nWho will dance on the floor in the round\\nShe told me her name was Billie Jean as she caused a scene\\nThen every head turned with eyes that dreamed of bein\\' the one\\nWho will dance on the floor in the round\\n\\n[Pre-Chorus 1]\\nPeople always told me, \"Be careful of what you do\\nDon\\'t go around breakin\\' young girls\\' hearts\" (Hee-hee)\\nAnd mother always told me, \"Be careful of who you love\\nAnd be careful of what you do (Oh-oh)\\n\\'Cause the lie becomes the truth\" (Oh-oh), hey-ey\\n\\n[Chorus]\\nBillie Jean is not my lover, uh\\nShe\\'s just a girl who claims that I am the one (Oh, baby)\\nBut the kid is not my son (Hoo)\\nShe says I am the one (Oh, baby)\\nBut the kid is not my son (Hee-hee-hee, no-no, hee-hee-hee, hoo)\\n\\n[Verse 2]\\nFor forty days and for forty nights, the law was on her side\\nBut who can stand when she\\'s in demand? Her schemes and plans\\n\\'Cause we danced on the floor in the round (Hee)\\nSo take my strong advice\\nJust remember to always think twice\\n(Don\\'t think twice) Do think twice! (A-hoo!)\\nShe told my baby we\\'d danced \\'til three, then she looked at me\\nThen showed a photo of a baby cryin\\', his eyes were like mine (Oh, no)\\n\\'Cause we danced on the floor in the round, baby (Ooh, hee-hee-hee)\\nYou might also like[Pre-Chorus 2]\\nPeople always told me, \"Be careful of what you do\\nAnd don\\'t go around breakin\\' young girls\\' hearts\" (Don\\'t break no hearts; hee-hee)\\nBut she came and stood right by me\\nJust the smell of sweet perfume (Ha-oh)\\nThis happened much too soon (Ha-oh, ha-ooh)\\nShe called me to her room (Ha-oh, hoo), hey-ey\\n\\n[Chorus]\\nBillie Jean is not my lover (Hoo)\\nShe\\'s just a girl who claims that I am the one\\nBut the kid is not my son\\nNo-no-no, no-no-no-no-no-no (Hoo)\\nBillie Jean is not my lover, uh\\nShe\\'s just a girl who claims that I am the one (Oh, baby)\\nBut the kid is not my son (Oh, no, no)\\nShe says I am the one (Oh, baby)\\nBut the kid is not my son (No, hee-hee-hee, ah, hee-hee-hee)\\n\\n[Break]\\nHee, hoo\\n\\n[Chorus]\\nShe says I am the one, uh\\nBut the kid is not my son (No-no-no, hoo, ohh)\\nBillie Jean is not my lover, uh\\nShe\\'s just a girl who claims that I am the one (You know what you did to me, baby)\\nBut the kid is not my son\\nNo-no-no (No-no-no, ah), no-no-no-no (No-no-no)\\nShe says I am the one (No)\\nBut the kid is not my son (No-no-no-no)\\n[Outro]\\nShe says I am the one (You know what you did)\\nShe says he is my son (Breakin\\' my heart, babe)\\nShe says I am the one\\nYeah, yeah, Billie Jean is not my lover, uh\\nYeah, Billie Jean is not my lover, uh\\nYeah, Billie Jean is not my lover, uh (She is just a girl)\\nYeah, Billie Jean is not my lover, uh (She is just a girl; don\\'t call me Billie Jean, hoo)\\nBillie Jean is not my lover, uh (She is just a girl; she\\'s not at the scene)\\nBillie Jean is not (Hee), aaow, ooh\\nYeah, Billie Jean is140Embed'"
      ]
     },
     "execution_count": 27,
     "metadata": {},
     "output_type": "execute_result"
    }
   ],
   "source": [
    "g_artist.songs[0].lyrics"
   ]
  },
  {
   "cell_type": "code",
   "execution_count": 37,
   "metadata": {},
   "outputs": [
    {
     "data": {
      "text/plain": [
       "' Verse 1  She was more like a beauty queen from a movie scene I said   Don t mind  but what do you mean  I am the one Who will dance on the floor in the round   She said I am the one Who will dance on the floor in the round She told me her name was Billie Jean as she caused a scene Then every head turned with eyes that dreamed of bein  the one Who will dance on the floor in the round   Pre Chorus 1  People always told me   Be careful of what you do Don t go around breakin  young girls  hearts   Hee hee  And mother always told me   Be careful of who you love And be careful of what you do  Oh oh   Cause the lie becomes the truth   Oh oh   hey ey   Chorus  Billie Jean is not my lover  uh She s just a girl who claims that I am the one  Oh  baby  But the kid is not my son  Hoo  She says I am the one  Oh  baby  But the kid is not my son  Hee hee hee  no no  hee hee hee  hoo    Verse 2  For forty days and for forty nights  the law was on her side But who can stand when she s in demand  Her schemes and plans  Cause we danced on the floor in the round  Hee  So take my strong advice Just remember to always think twice  Don t think twice  Do think twice   A hoo   She told my baby we d danced  til three  then she looked at me Then showed a photo of a baby cryin   his eyes were like mine  Oh  no   Cause we danced on the floor in the round  baby  Ooh  hee hee hee  You might also like Pre Chorus 2  People always told me   Be careful of what you do And don t go around breakin  young girls  hearts   Don t break no hearts  hee hee  But she came and stood right by me Just the smell of sweet perfume  Ha oh  This happened much too soon  Ha oh  ha ooh  She called me to her room  Ha oh  hoo   hey ey   Chorus  Billie Jean is not my lover  Hoo  She s just a girl who claims that I am the one But the kid is not my son No no no  no no no no no no  Hoo  Billie Jean is not my lover  uh She s just a girl who claims that I am the one  Oh  baby  But the kid is not my son  Oh  no  no  She says I am the one  Oh  baby  But the kid is not my son  No  hee hee hee  ah  hee hee hee    Break  Hee  hoo   Chorus  She says I am the one  uh But the kid is not my son  No no no  hoo  ohh  Billie Jean is not my lover  uh She s just a girl who claims that I am the one  You know what you did to me  baby  But the kid is not my son No no no  No no no  ah   no no no no  No no no  She says I am the one  No  But the kid is not my son  No no no no   Outro  She says I am the one  You know what you did  She says he is my son  Breakin  my heart  babe  She says I am the one Yeah  yeah  Billie Jean is not my lover  uh Yeah  Billie Jean is not my lover  uh Yeah  Billie Jean is not my lover  uh  She is just a girl  Yeah  Billie Jean is not my lover  uh  She is just a girl  don t call me Billie Jean  hoo  Billie Jean is not my lover  uh  She is just a girl  she s not at the scene  Billie Jean is not  Hee   aaow  ooh Yeah  Billie Jean is140Embed'"
      ]
     },
     "execution_count": 37,
     "metadata": {},
     "output_type": "execute_result"
    }
   ],
   "source": [
    "import re\n",
    "import string \n",
    "\n",
    "regex = re.compile('[%s]' % re.escape(string.punctuation))\n",
    "\n",
    "txt1 = regex.sub(' ', g_artist.songs[0].lyrics[75:])\n",
    "txt2 = txt1.replace('\\n', ' ')\n",
    "txt2"
   ]
  },
  {
   "cell_type": "code",
   "execution_count": 16,
   "metadata": {},
   "outputs": [],
   "source": [
    "artists=['ABBA','David_Bowie','Janis_Joplin','Michael_Jackson','Queen','Rolling_Stones','The_Clash','Bob_Dylan','Elton_John','Led_Zeppelin','Pink_Floyd','Ramones','The_Beatles','The_Doors']\n",
    "\n",
    "data = {}\n",
    "for i, a in enumerate(artists):\n",
    "    with open(\"lyrics_top50/\" + a + \".txt\", \"r\") as file:\n",
    "        data[a] = re.sub('\\n', ' ', file.read()) # Remove new line \\n  "
   ]
  },
  {
   "cell_type": "code",
   "execution_count": 17,
   "metadata": {},
   "outputs": [
    {
     "data": {
      "text/plain": [
       "dict_keys(['ABBA', 'David_Bowie', 'Janis_Joplin', 'Michael_Jackson', 'Queen', 'Rolling_Stones', 'The_Clash', 'Bob_Dylan', 'Elton_John', 'Led_Zeppelin', 'Pink_Floyd', 'Ramones', 'The_Beatles', 'The_Doors'])"
      ]
     },
     "execution_count": 17,
     "metadata": {},
     "output_type": "execute_result"
    }
   ],
   "source": [
    "data.keys()"
   ]
  },
  {
   "cell_type": "code",
   "execution_count": 38,
   "metadata": {},
   "outputs": [
    {
     "data": {
      "text/plain": [
       "\"[Verse 1] I, I've been in love before I thought I would no more Manage to hit the ceiling Still, strange as it seems to me You brought it back to me That old feeling  [Verse 2] I, I don't know what you do You make me think that you Possibly could release me I think you'll be able to Make all my dreams come true And you ease me  [Chorus] You thrill me, you delight me You please me, you excite me You're something I'd been pleading for I love you, I adore you I've laid my life before you I'll have you want me more and more And finally it seems my lonely days are through I've been waiting for you  [Verse 3] I, I'm gonna make you mine You're gonna feel so fine You'll never want to leave me I feel you belong to me Someday you will agree Please, believe me  [Chorus] You thrill me, you delight me You please me, you excite me You're something I'd been pleading for I love you, I adore you I've laid my life before you I'll have you want me more and more And finally it seems my lonely days are through I've been waiting for you Oh, I've been waiting for you  [Outro] Na na na, na na na, na-na na Na na na, na na na, na-na na Na na na, na na na, na-na na-na Na na na, na na na, na-na na Na na na, na na na, na-na na Na na na, na na na, na-na na-na Na na na, na na na, na-na na Na na na, na na na, na-na na Na na na, na na na, na-na na-na Na na na, na na na, na-na na Na na na, na na na, na-na na Na na na, na na na, na-na na-na[Verse 1] Love me or leave me, make your choice but believe me I love you, I do, I do, I do, I do, I do I can't conceal it, don't you see, can't you feel it? Don't you too? I do, I do, I do, I do, I do  [Chorus] Oh, I've been dreaming through my lonely past Now I just made it, I found you at last  [Verse 2] So come on, now let's try it, I love you, can't deny it 'Cause it's true, I do, I do, I do, I do, I do  [Interlude]  [Chorus] Oh, no hard feelings between you and me If we can't make it, but just wait and see  [Verse 3] So come on, now let's try it, I love you, \""
      ]
     },
     "execution_count": 38,
     "metadata": {},
     "output_type": "execute_result"
    }
   ],
   "source": [
    "data['ABBA'][:2000]"
   ]
  },
  {
   "cell_type": "code",
   "execution_count": 39,
   "metadata": {},
   "outputs": [
    {
     "data": {
      "text/html": [
       "<div>\n",
       "<style scoped>\n",
       "    .dataframe tbody tr th:only-of-type {\n",
       "        vertical-align: middle;\n",
       "    }\n",
       "\n",
       "    .dataframe tbody tr th {\n",
       "        vertical-align: top;\n",
       "    }\n",
       "\n",
       "    .dataframe thead th {\n",
       "        text-align: right;\n",
       "    }\n",
       "</style>\n",
       "<table border=\"1\" class=\"dataframe\">\n",
       "  <thead>\n",
       "    <tr style=\"text-align: right;\">\n",
       "      <th></th>\n",
       "      <th>lyrics</th>\n",
       "    </tr>\n",
       "  </thead>\n",
       "  <tbody>\n",
       "    <tr>\n",
       "      <th>ABBA</th>\n",
       "      <td>[Verse 1] I, I've been in love before I though...</td>\n",
       "    </tr>\n",
       "    <tr>\n",
       "      <th>David_Bowie</th>\n",
       "      <td>[Intro]  [Verse 1] A small Jean Genie snuck of...</td>\n",
       "    </tr>\n",
       "    <tr>\n",
       "      <th>Janis_Joplin</th>\n",
       "      <td>[Intro] Oh, come on, come on, come on, come on...</td>\n",
       "    </tr>\n",
       "    <tr>\n",
       "      <th>Michael_Jackson</th>\n",
       "      <td>[Verse 1] Your butt is mine, gonna tell you ri...</td>\n",
       "    </tr>\n",
       "    <tr>\n",
       "      <th>Queen</th>\n",
       "      <td>[Verse 1] I can dim the lights and sing you so...</td>\n",
       "    </tr>\n",
       "    <tr>\n",
       "      <th>Rolling_Stones</th>\n",
       "      <td>[Intro] What a drag it is getting old  [Verse ...</td>\n",
       "    </tr>\n",
       "    <tr>\n",
       "      <th>The_Clash</th>\n",
       "      <td>Stay around don't play around This old town an...</td>\n",
       "    </tr>\n",
       "    <tr>\n",
       "      <th>Bob_Dylan</th>\n",
       "      <td>[Verse 1] Go away from my window Leave at your...</td>\n",
       "    </tr>\n",
       "    <tr>\n",
       "      <th>Elton_John</th>\n",
       "      <td>[Verse 1] Can you hear it in the distance? Can...</td>\n",
       "    </tr>\n",
       "    <tr>\n",
       "      <th>Led_Zeppelin</th>\n",
       "      <td>[Intro] Hey That's right  [Verse 1] Asked swee...</td>\n",
       "    </tr>\n",
       "    <tr>\n",
       "      <th>Pink_Floyd</th>\n",
       "      <td>[Verse 1] Into the distance, a ribbon of black...</td>\n",
       "    </tr>\n",
       "    <tr>\n",
       "      <th>Ramones</th>\n",
       "      <td>[Intro] 1-2-3-4  [Verse 1] When I'm lying in m...</td>\n",
       "    </tr>\n",
       "    <tr>\n",
       "      <th>The_Beatles</th>\n",
       "      <td>[Verse 1] Jojo was a man who thought he was a ...</td>\n",
       "    </tr>\n",
       "    <tr>\n",
       "      <th>The_Doors</th>\n",
       "      <td>Lions in the street and roaming Dogs in heat, ...</td>\n",
       "    </tr>\n",
       "  </tbody>\n",
       "</table>\n",
       "</div>"
      ],
      "text/plain": [
       "                                                            lyrics\n",
       "ABBA             [Verse 1] I, I've been in love before I though...\n",
       "David_Bowie      [Intro]  [Verse 1] A small Jean Genie snuck of...\n",
       "Janis_Joplin     [Intro] Oh, come on, come on, come on, come on...\n",
       "Michael_Jackson  [Verse 1] Your butt is mine, gonna tell you ri...\n",
       "Queen            [Verse 1] I can dim the lights and sing you so...\n",
       "Rolling_Stones   [Intro] What a drag it is getting old  [Verse ...\n",
       "The_Clash        Stay around don't play around This old town an...\n",
       "Bob_Dylan        [Verse 1] Go away from my window Leave at your...\n",
       "Elton_John       [Verse 1] Can you hear it in the distance? Can...\n",
       "Led_Zeppelin     [Intro] Hey That's right  [Verse 1] Asked swee...\n",
       "Pink_Floyd       [Verse 1] Into the distance, a ribbon of black...\n",
       "Ramones          [Intro] 1-2-3-4  [Verse 1] When I'm lying in m...\n",
       "The_Beatles      [Verse 1] Jojo was a man who thought he was a ...\n",
       "The_Doors        Lions in the street and roaming Dogs in heat, ..."
      ]
     },
     "execution_count": 39,
     "metadata": {},
     "output_type": "execute_result"
    }
   ],
   "source": [
    "import pandas as pd\n",
    "\n",
    "data_df = pd.DataFrame(data,index=[0]).transpose()\n",
    "data_df.columns=['lyrics']\n",
    "data_df"
   ]
  },
  {
   "cell_type": "code",
   "execution_count": null,
   "metadata": {},
   "outputs": [],
   "source": [
    "data_df.to_csv('lyrics.csv')"
   ]
  }
 ],
 "metadata": {
  "kernelspec": {
   "display_name": "base",
   "language": "python",
   "name": "python3"
  },
  "language_info": {
   "codemirror_mode": {
    "name": "ipython",
    "version": 3
   },
   "file_extension": ".py",
   "mimetype": "text/x-python",
   "name": "python",
   "nbconvert_exporter": "python",
   "pygments_lexer": "ipython3",
   "version": "3.12.7"
  },
  "toc": {
   "nav_menu": {},
   "number_sections": true,
   "sideBar": true,
   "skip_h1_title": false,
   "toc_cell": false,
   "toc_position": {},
   "toc_section_display": "block",
   "toc_window_display": false
  },
  "varInspector": {
   "cols": {
    "lenName": 16,
    "lenType": 16,
    "lenVar": 40
   },
   "kernels_config": {
    "python": {
     "delete_cmd_postfix": "",
     "delete_cmd_prefix": "del ",
     "library": "var_list.py",
     "varRefreshCmd": "print(var_dic_list())"
    },
    "r": {
     "delete_cmd_postfix": ") ",
     "delete_cmd_prefix": "rm(",
     "library": "var_list.r",
     "varRefreshCmd": "cat(var_dic_list()) "
    }
   },
   "types_to_exclude": [
    "module",
    "function",
    "builtin_function_or_method",
    "instance",
    "_Feature"
   ],
   "window_display": false
  }
 },
 "nbformat": 4,
 "nbformat_minor": 2
}
