{
  "cells": [
    {
      "cell_type": "code",
      "execution_count": 1,
      "id": "2eae711d",
      "metadata": {
        "id": "2eae711d"
      },
      "outputs": [],
      "source": [
        "import pandas as pd"
      ]
    },
    {
      "cell_type": "code",
      "execution_count": 2,
      "id": "b0d5f318",
      "metadata": {
        "id": "b0d5f318"
      },
      "outputs": [],
      "source": [
        "df = pd.read_csv('emotions.txt', sep=';', header=None)"
      ]
    },
    {
      "cell_type": "code",
      "execution_count": 3,
      "id": "338908d2",
      "metadata": {
        "id": "338908d2"
      },
      "outputs": [],
      "source": [
        "df.columns = ['text', 'emotion']"
      ]
    },
    {
      "cell_type": "code",
      "execution_count": 4,
      "id": "732ea7f3",
      "metadata": {
        "colab": {
          "base_uri": "https://localhost:8080/"
        },
        "id": "732ea7f3",
        "outputId": "4fd647ae-b501-4834-dd91-2a5857048125"
      },
      "outputs": [
        {
          "output_type": "execute_result",
          "data": {
            "text/plain": [
              "(10073, 2)"
            ]
          },
          "metadata": {},
          "execution_count": 4
        }
      ],
      "source": [
        "df.shape"
      ]
    },
    {
      "cell_type": "code",
      "execution_count": 5,
      "id": "adc5fec3",
      "metadata": {
        "colab": {
          "base_uri": "https://localhost:8080/",
          "height": 206
        },
        "id": "adc5fec3",
        "outputId": "0883c903-45ee-4ce6-d541-62829abb9aff"
      },
      "outputs": [
        {
          "output_type": "execute_result",
          "data": {
            "text/plain": [
              "                                                    text emotion\n",
              "10068  i feel like this author is a little underrated...     joy\n",
              "10069  i stopped looking for a solution to my problem...   anger\n",
              "10070  i was feeling very passionate and connected to...     joy\n",
              "10071  i have a feeling i will be making a few more a...     joy\n",
              "10072                                               i am     NaN"
            ],
            "text/html": [
              "\n",
              "  <div id=\"df-3dd55c3b-4f5a-41e6-a33f-bf9aff564152\" class=\"colab-df-container\">\n",
              "    <div>\n",
              "<style scoped>\n",
              "    .dataframe tbody tr th:only-of-type {\n",
              "        vertical-align: middle;\n",
              "    }\n",
              "\n",
              "    .dataframe tbody tr th {\n",
              "        vertical-align: top;\n",
              "    }\n",
              "\n",
              "    .dataframe thead th {\n",
              "        text-align: right;\n",
              "    }\n",
              "</style>\n",
              "<table border=\"1\" class=\"dataframe\">\n",
              "  <thead>\n",
              "    <tr style=\"text-align: right;\">\n",
              "      <th></th>\n",
              "      <th>text</th>\n",
              "      <th>emotion</th>\n",
              "    </tr>\n",
              "  </thead>\n",
              "  <tbody>\n",
              "    <tr>\n",
              "      <th>10068</th>\n",
              "      <td>i feel like this author is a little underrated...</td>\n",
              "      <td>joy</td>\n",
              "    </tr>\n",
              "    <tr>\n",
              "      <th>10069</th>\n",
              "      <td>i stopped looking for a solution to my problem...</td>\n",
              "      <td>anger</td>\n",
              "    </tr>\n",
              "    <tr>\n",
              "      <th>10070</th>\n",
              "      <td>i was feeling very passionate and connected to...</td>\n",
              "      <td>joy</td>\n",
              "    </tr>\n",
              "    <tr>\n",
              "      <th>10071</th>\n",
              "      <td>i have a feeling i will be making a few more a...</td>\n",
              "      <td>joy</td>\n",
              "    </tr>\n",
              "    <tr>\n",
              "      <th>10072</th>\n",
              "      <td>i am</td>\n",
              "      <td>NaN</td>\n",
              "    </tr>\n",
              "  </tbody>\n",
              "</table>\n",
              "</div>\n",
              "    <div class=\"colab-df-buttons\">\n",
              "\n",
              "  <div class=\"colab-df-container\">\n",
              "    <button class=\"colab-df-convert\" onclick=\"convertToInteractive('df-3dd55c3b-4f5a-41e6-a33f-bf9aff564152')\"\n",
              "            title=\"Convert this dataframe to an interactive table.\"\n",
              "            style=\"display:none;\">\n",
              "\n",
              "  <svg xmlns=\"http://www.w3.org/2000/svg\" height=\"24px\" viewBox=\"0 -960 960 960\">\n",
              "    <path d=\"M120-120v-720h720v720H120Zm60-500h600v-160H180v160Zm220 220h160v-160H400v160Zm0 220h160v-160H400v160ZM180-400h160v-160H180v160Zm440 0h160v-160H620v160ZM180-180h160v-160H180v160Zm440 0h160v-160H620v160Z\"/>\n",
              "  </svg>\n",
              "    </button>\n",
              "\n",
              "  <style>\n",
              "    .colab-df-container {\n",
              "      display:flex;\n",
              "      gap: 12px;\n",
              "    }\n",
              "\n",
              "    .colab-df-convert {\n",
              "      background-color: #E8F0FE;\n",
              "      border: none;\n",
              "      border-radius: 50%;\n",
              "      cursor: pointer;\n",
              "      display: none;\n",
              "      fill: #1967D2;\n",
              "      height: 32px;\n",
              "      padding: 0 0 0 0;\n",
              "      width: 32px;\n",
              "    }\n",
              "\n",
              "    .colab-df-convert:hover {\n",
              "      background-color: #E2EBFA;\n",
              "      box-shadow: 0px 1px 2px rgba(60, 64, 67, 0.3), 0px 1px 3px 1px rgba(60, 64, 67, 0.15);\n",
              "      fill: #174EA6;\n",
              "    }\n",
              "\n",
              "    .colab-df-buttons div {\n",
              "      margin-bottom: 4px;\n",
              "    }\n",
              "\n",
              "    [theme=dark] .colab-df-convert {\n",
              "      background-color: #3B4455;\n",
              "      fill: #D2E3FC;\n",
              "    }\n",
              "\n",
              "    [theme=dark] .colab-df-convert:hover {\n",
              "      background-color: #434B5C;\n",
              "      box-shadow: 0px 1px 3px 1px rgba(0, 0, 0, 0.15);\n",
              "      filter: drop-shadow(0px 1px 2px rgba(0, 0, 0, 0.3));\n",
              "      fill: #FFFFFF;\n",
              "    }\n",
              "  </style>\n",
              "\n",
              "    <script>\n",
              "      const buttonEl =\n",
              "        document.querySelector('#df-3dd55c3b-4f5a-41e6-a33f-bf9aff564152 button.colab-df-convert');\n",
              "      buttonEl.style.display =\n",
              "        google.colab.kernel.accessAllowed ? 'block' : 'none';\n",
              "\n",
              "      async function convertToInteractive(key) {\n",
              "        const element = document.querySelector('#df-3dd55c3b-4f5a-41e6-a33f-bf9aff564152');\n",
              "        const dataTable =\n",
              "          await google.colab.kernel.invokeFunction('convertToInteractive',\n",
              "                                                    [key], {});\n",
              "        if (!dataTable) return;\n",
              "\n",
              "        const docLinkHtml = 'Like what you see? Visit the ' +\n",
              "          '<a target=\"_blank\" href=https://colab.research.google.com/notebooks/data_table.ipynb>data table notebook</a>'\n",
              "          + ' to learn more about interactive tables.';\n",
              "        element.innerHTML = '';\n",
              "        dataTable['output_type'] = 'display_data';\n",
              "        await google.colab.output.renderOutput(dataTable, element);\n",
              "        const docLink = document.createElement('div');\n",
              "        docLink.innerHTML = docLinkHtml;\n",
              "        element.appendChild(docLink);\n",
              "      }\n",
              "    </script>\n",
              "  </div>\n",
              "\n",
              "\n",
              "    <div id=\"df-e2259c4d-c7fc-4992-8683-6dc7a774a446\">\n",
              "      <button class=\"colab-df-quickchart\" onclick=\"quickchart('df-e2259c4d-c7fc-4992-8683-6dc7a774a446')\"\n",
              "                title=\"Suggest charts\"\n",
              "                style=\"display:none;\">\n",
              "\n",
              "<svg xmlns=\"http://www.w3.org/2000/svg\" height=\"24px\"viewBox=\"0 0 24 24\"\n",
              "     width=\"24px\">\n",
              "    <g>\n",
              "        <path d=\"M19 3H5c-1.1 0-2 .9-2 2v14c0 1.1.9 2 2 2h14c1.1 0 2-.9 2-2V5c0-1.1-.9-2-2-2zM9 17H7v-7h2v7zm4 0h-2V7h2v10zm4 0h-2v-4h2v4z\"/>\n",
              "    </g>\n",
              "</svg>\n",
              "      </button>\n",
              "\n",
              "<style>\n",
              "  .colab-df-quickchart {\n",
              "      --bg-color: #E8F0FE;\n",
              "      --fill-color: #1967D2;\n",
              "      --hover-bg-color: #E2EBFA;\n",
              "      --hover-fill-color: #174EA6;\n",
              "      --disabled-fill-color: #AAA;\n",
              "      --disabled-bg-color: #DDD;\n",
              "  }\n",
              "\n",
              "  [theme=dark] .colab-df-quickchart {\n",
              "      --bg-color: #3B4455;\n",
              "      --fill-color: #D2E3FC;\n",
              "      --hover-bg-color: #434B5C;\n",
              "      --hover-fill-color: #FFFFFF;\n",
              "      --disabled-bg-color: #3B4455;\n",
              "      --disabled-fill-color: #666;\n",
              "  }\n",
              "\n",
              "  .colab-df-quickchart {\n",
              "    background-color: var(--bg-color);\n",
              "    border: none;\n",
              "    border-radius: 50%;\n",
              "    cursor: pointer;\n",
              "    display: none;\n",
              "    fill: var(--fill-color);\n",
              "    height: 32px;\n",
              "    padding: 0;\n",
              "    width: 32px;\n",
              "  }\n",
              "\n",
              "  .colab-df-quickchart:hover {\n",
              "    background-color: var(--hover-bg-color);\n",
              "    box-shadow: 0 1px 2px rgba(60, 64, 67, 0.3), 0 1px 3px 1px rgba(60, 64, 67, 0.15);\n",
              "    fill: var(--button-hover-fill-color);\n",
              "  }\n",
              "\n",
              "  .colab-df-quickchart-complete:disabled,\n",
              "  .colab-df-quickchart-complete:disabled:hover {\n",
              "    background-color: var(--disabled-bg-color);\n",
              "    fill: var(--disabled-fill-color);\n",
              "    box-shadow: none;\n",
              "  }\n",
              "\n",
              "  .colab-df-spinner {\n",
              "    border: 2px solid var(--fill-color);\n",
              "    border-color: transparent;\n",
              "    border-bottom-color: var(--fill-color);\n",
              "    animation:\n",
              "      spin 1s steps(1) infinite;\n",
              "  }\n",
              "\n",
              "  @keyframes spin {\n",
              "    0% {\n",
              "      border-color: transparent;\n",
              "      border-bottom-color: var(--fill-color);\n",
              "      border-left-color: var(--fill-color);\n",
              "    }\n",
              "    20% {\n",
              "      border-color: transparent;\n",
              "      border-left-color: var(--fill-color);\n",
              "      border-top-color: var(--fill-color);\n",
              "    }\n",
              "    30% {\n",
              "      border-color: transparent;\n",
              "      border-left-color: var(--fill-color);\n",
              "      border-top-color: var(--fill-color);\n",
              "      border-right-color: var(--fill-color);\n",
              "    }\n",
              "    40% {\n",
              "      border-color: transparent;\n",
              "      border-right-color: var(--fill-color);\n",
              "      border-top-color: var(--fill-color);\n",
              "    }\n",
              "    60% {\n",
              "      border-color: transparent;\n",
              "      border-right-color: var(--fill-color);\n",
              "    }\n",
              "    80% {\n",
              "      border-color: transparent;\n",
              "      border-right-color: var(--fill-color);\n",
              "      border-bottom-color: var(--fill-color);\n",
              "    }\n",
              "    90% {\n",
              "      border-color: transparent;\n",
              "      border-bottom-color: var(--fill-color);\n",
              "    }\n",
              "  }\n",
              "</style>\n",
              "\n",
              "      <script>\n",
              "        async function quickchart(key) {\n",
              "          const quickchartButtonEl =\n",
              "            document.querySelector('#' + key + ' button');\n",
              "          quickchartButtonEl.disabled = true;  // To prevent multiple clicks.\n",
              "          quickchartButtonEl.classList.add('colab-df-spinner');\n",
              "          try {\n",
              "            const charts = await google.colab.kernel.invokeFunction(\n",
              "                'suggestCharts', [key], {});\n",
              "          } catch (error) {\n",
              "            console.error('Error during call to suggestCharts:', error);\n",
              "          }\n",
              "          quickchartButtonEl.classList.remove('colab-df-spinner');\n",
              "          quickchartButtonEl.classList.add('colab-df-quickchart-complete');\n",
              "        }\n",
              "        (() => {\n",
              "          let quickchartButtonEl =\n",
              "            document.querySelector('#df-e2259c4d-c7fc-4992-8683-6dc7a774a446 button');\n",
              "          quickchartButtonEl.style.display =\n",
              "            google.colab.kernel.accessAllowed ? 'block' : 'none';\n",
              "        })();\n",
              "      </script>\n",
              "    </div>\n",
              "\n",
              "    </div>\n",
              "  </div>\n"
            ],
            "application/vnd.google.colaboratory.intrinsic+json": {
              "type": "dataframe",
              "summary": "{\n  \"name\": \"df\",\n  \"rows\": 5,\n  \"fields\": [\n    {\n      \"column\": \"text\",\n      \"properties\": {\n        \"dtype\": \"string\",\n        \"num_unique_values\": 5,\n        \"samples\": [\n          \"i stopped looking for a solution to my problem and i stopped feeling like i have to be dissatisfied\",\n          \"i am\",\n          \"i was feeling very passionate and connected to treating the population of kids with sexually maladaptive behaviors\"\n        ],\n        \"semantic_type\": \"\",\n        \"description\": \"\"\n      }\n    },\n    {\n      \"column\": \"emotion\",\n      \"properties\": {\n        \"dtype\": \"category\",\n        \"num_unique_values\": 2,\n        \"samples\": [\n          \"anger\",\n          \"joy\"\n        ],\n        \"semantic_type\": \"\",\n        \"description\": \"\"\n      }\n    }\n  ]\n}"
            }
          },
          "metadata": {},
          "execution_count": 5
        }
      ],
      "source": [
        "df.tail()"
      ]
    },
    {
      "cell_type": "code",
      "execution_count": 6,
      "id": "4f8faf47",
      "metadata": {
        "colab": {
          "base_uri": "https://localhost:8080/"
        },
        "id": "4f8faf47",
        "outputId": "c169330b-42c0-456f-f67c-7ce36c9ba388"
      },
      "outputs": [
        {
          "output_type": "execute_result",
          "data": {
            "text/plain": [
              "array(['sadness', 'joy', 'fear', 'anger', 'love', 'surprise', nan],\n",
              "      dtype=object)"
            ]
          },
          "metadata": {},
          "execution_count": 6
        }
      ],
      "source": [
        "df.emotion.unique()"
      ]
    },
    {
      "cell_type": "code",
      "execution_count": 7,
      "id": "5c2c3747",
      "metadata": {
        "colab": {
          "base_uri": "https://localhost:8080/",
          "height": 304
        },
        "id": "5c2c3747",
        "outputId": "b91cc48b-91c8-4dd7-814f-f51a8f1c29a7"
      },
      "outputs": [
        {
          "output_type": "execute_result",
          "data": {
            "text/plain": [
              "emotion\n",
              "joy         3421\n",
              "sadness     2896\n",
              "anger       1375\n",
              "fear        1164\n",
              "love         826\n",
              "surprise     390\n",
              "Name: count, dtype: int64"
            ],
            "text/html": [
              "<div>\n",
              "<style scoped>\n",
              "    .dataframe tbody tr th:only-of-type {\n",
              "        vertical-align: middle;\n",
              "    }\n",
              "\n",
              "    .dataframe tbody tr th {\n",
              "        vertical-align: top;\n",
              "    }\n",
              "\n",
              "    .dataframe thead th {\n",
              "        text-align: right;\n",
              "    }\n",
              "</style>\n",
              "<table border=\"1\" class=\"dataframe\">\n",
              "  <thead>\n",
              "    <tr style=\"text-align: right;\">\n",
              "      <th></th>\n",
              "      <th>count</th>\n",
              "    </tr>\n",
              "    <tr>\n",
              "      <th>emotion</th>\n",
              "      <th></th>\n",
              "    </tr>\n",
              "  </thead>\n",
              "  <tbody>\n",
              "    <tr>\n",
              "      <th>joy</th>\n",
              "      <td>3421</td>\n",
              "    </tr>\n",
              "    <tr>\n",
              "      <th>sadness</th>\n",
              "      <td>2896</td>\n",
              "    </tr>\n",
              "    <tr>\n",
              "      <th>anger</th>\n",
              "      <td>1375</td>\n",
              "    </tr>\n",
              "    <tr>\n",
              "      <th>fear</th>\n",
              "      <td>1164</td>\n",
              "    </tr>\n",
              "    <tr>\n",
              "      <th>love</th>\n",
              "      <td>826</td>\n",
              "    </tr>\n",
              "    <tr>\n",
              "      <th>surprise</th>\n",
              "      <td>390</td>\n",
              "    </tr>\n",
              "  </tbody>\n",
              "</table>\n",
              "</div><br><label><b>dtype:</b> int64</label>"
            ]
          },
          "metadata": {},
          "execution_count": 7
        }
      ],
      "source": [
        "df.emotion.value_counts()"
      ]
    },
    {
      "cell_type": "code",
      "execution_count": 8,
      "id": "bc2a2ffa",
      "metadata": {
        "colab": {
          "base_uri": "https://localhost:8080/"
        },
        "id": "bc2a2ffa",
        "outputId": "a510122f-966e-491d-bf8f-ddd6000a6347"
      },
      "outputs": [
        {
          "output_type": "stream",
          "name": "stderr",
          "text": [
            "<ipython-input-8-b4961e9f13fe>:5: FutureWarning: Downcasting behavior in `replace` is deprecated and will be removed in a future version. To retain the old behavior, explicitly call `result.infer_objects(copy=False)`. To opt-in to the future behavior, set `pd.set_option('future.no_silent_downcasting', True)`\n",
            "  df['emotion'] = df['emotion'].replace(e2i)\n"
          ]
        }
      ],
      "source": [
        "e2i = {'joy': 0, 'sadness': 1, 'anger': 2, 'fear': 3, 'love': 4, 'surprise': 5}\n",
        "i2e = {0:'joy', 1:'sadness', 2:'anger', 3:'fear', 4:'love', 5:'surprise'}\n",
        "\n",
        "df['emotion_txt'] = df['emotion']\n",
        "df['emotion'] = df['emotion'].replace(e2i)"
      ]
    },
    {
      "cell_type": "code",
      "execution_count": 9,
      "id": "8f527ff2",
      "metadata": {
        "colab": {
          "base_uri": "https://localhost:8080/",
          "height": 178
        },
        "id": "8f527ff2",
        "outputId": "60433c08-21cc-4b47-b885-123843c5e26e"
      },
      "outputs": [
        {
          "output_type": "execute_result",
          "data": {
            "text/plain": [
              "text           0\n",
              "emotion        0\n",
              "emotion_txt    0\n",
              "dtype: int64"
            ],
            "text/html": [
              "<div>\n",
              "<style scoped>\n",
              "    .dataframe tbody tr th:only-of-type {\n",
              "        vertical-align: middle;\n",
              "    }\n",
              "\n",
              "    .dataframe tbody tr th {\n",
              "        vertical-align: top;\n",
              "    }\n",
              "\n",
              "    .dataframe thead th {\n",
              "        text-align: right;\n",
              "    }\n",
              "</style>\n",
              "<table border=\"1\" class=\"dataframe\">\n",
              "  <thead>\n",
              "    <tr style=\"text-align: right;\">\n",
              "      <th></th>\n",
              "      <th>0</th>\n",
              "    </tr>\n",
              "  </thead>\n",
              "  <tbody>\n",
              "    <tr>\n",
              "      <th>text</th>\n",
              "      <td>0</td>\n",
              "    </tr>\n",
              "    <tr>\n",
              "      <th>emotion</th>\n",
              "      <td>0</td>\n",
              "    </tr>\n",
              "    <tr>\n",
              "      <th>emotion_txt</th>\n",
              "      <td>0</td>\n",
              "    </tr>\n",
              "  </tbody>\n",
              "</table>\n",
              "</div><br><label><b>dtype:</b> int64</label>"
            ]
          },
          "metadata": {},
          "execution_count": 9
        }
      ],
      "source": [
        "df.dropna(axis=0,inplace=True)\n",
        "df.isna().sum()"
      ]
    },
    {
      "cell_type": "markdown",
      "id": "951be985",
      "metadata": {
        "id": "951be985"
      },
      "source": [
        "## Emotion detection"
      ]
    },
    {
      "cell_type": "code",
      "execution_count": null,
      "id": "52628ea9",
      "metadata": {
        "id": "52628ea9"
      },
      "outputs": [],
      "source": [
        "# Train-test split\n",
        "\n",
        "from sklearn.model_selection import train_test_split\n",
        "\n",
        "X_train, X_test, y_train, y_test = train_test_split(df['text'], df['emotion'], test_size=0.2, random_state=42)"
      ]
    },
    {
      "cell_type": "code",
      "execution_count": null,
      "id": "0rUvPqywMdVz",
      "metadata": {
        "id": "0rUvPqywMdVz"
      },
      "outputs": [],
      "source": [
        "# building a structured representation\n",
        "\n",
        "from sklearn.feature_extraction.text import TfidfVectorizer\n",
        "\n",
        "tfidf = TfidfVectorizer()\n",
        "X_train_tfidf = tfidf.fit_transform(X_train)\n",
        "X_test_tfidf = tfidf.transform(X_test)"
      ]
    },
    {
      "cell_type": "code",
      "execution_count": null,
      "id": "385e0466",
      "metadata": {
        "id": "385e0466"
      },
      "outputs": [],
      "source": [
        "from sklearn.metrics import confusion_matrix, classification_report ,ConfusionMatrixDisplay, accuracy_score, f1_score\n",
        "import matplotlib.pyplot as plt\n",
        "\n",
        "def check_scores(clf, X_train, X_test, y_train, y_test):\n",
        "\n",
        "    model=clf.fit(X_train, y_train)\n",
        "    predicted_class=model.predict(X_test)\n",
        "    predicted_class_train=model.predict(X_train)\n",
        "    test_probs = model.predict_proba(X_test)\n",
        "    test_probs = test_probs[:, 1]\n",
        "\n",
        "    class_names = ['joy', 'sadness','anger','fear','love','surprise']\n",
        "    plt.figure(figsize=(10,10))\n",
        "    disp = ConfusionMatrixDisplay(confusion_matrix(y_train, predicted_class_train),display_labels=class_names)\n",
        "    disp.plot()\n",
        "    plt.xticks(rotation=90)\n",
        "    plt.title(\"Train Confusion Matrix\")\n",
        "    plt.show()\n",
        "\n",
        "\n",
        "    plt.figure(figsize=(10,10))\n",
        "    disp = ConfusionMatrixDisplay(confusion_matrix(y_test, predicted_class),display_labels=class_names)\n",
        "    disp.plot()\n",
        "    plt.xticks(rotation=90)\n",
        "    plt.title(\"Test Confusion Matrix\")\n",
        "    plt.show()\n",
        "\n",
        "    print()\n",
        "    print(classification_report(y_test,predicted_class))\n",
        "    print()\n",
        "    train_accuracy = accuracy_score(y_train,predicted_class_train)\n",
        "    test_accuracy = accuracy_score(y_test,predicted_class)\n",
        "\n",
        "    print()\n",
        "    print(\"Train f1: \", f1_score(y_train, predicted_class_train,average='weighted'))\n",
        "    print(\"Test f1: \", f1_score(y_test, predicted_class,average='weighted'))\n",
        "    print()\n",
        "    print(\"Train accuracy score: \", train_accuracy)\n",
        "    print(\"Test accuracy score: \",test_accuracy)\n",
        "\n",
        "    return model"
      ]
    },
    {
      "cell_type": "code",
      "execution_count": null,
      "id": "2FjoFW74Ty5G",
      "metadata": {
        "colab": {
          "base_uri": "https://localhost:8080/",
          "height": 1000
        },
        "id": "2FjoFW74Ty5G",
        "outputId": "658187c0-ab6c-447a-ac3a-d3d5c43e01be"
      },
      "outputs": [
        {
          "data": {
            "text/plain": [
              "<Figure size 720x720 with 0 Axes>"
            ]
          },
          "metadata": {},
          "output_type": "display_data"
        },
        {
          "data": {
            "image/png": "[encoded data removed]",
            "text/plain": [
              "<Figure size 432x288 with 2 Axes>"
            ]
          },
          "metadata": {
            "needs_background": "light"
          },
          "output_type": "display_data"
        },
        {
          "data": {
            "text/plain": [
              "<Figure size 720x720 with 0 Axes>"
            ]
          },
          "metadata": {},
          "output_type": "display_data"
        },
        {
          "data": {
            "image/png": "[encoded data removed]",
            "text/plain": [
              "<Figure size 432x288 with 2 Axes>"
            ]
          },
          "metadata": {
            "needs_background": "light"
          },
          "output_type": "display_data"
        },
        {
          "name": "stdout",
          "output_type": "stream",
          "text": [
            "\n",
            "              precision    recall  f1-score   support\n",
            "\n",
            "           0       0.63      0.97      0.77      1374\n",
            "           1       0.68      0.90      0.78      1136\n",
            "           2       0.94      0.36      0.52       529\n",
            "           3       0.95      0.27      0.42       510\n",
            "           4       1.00      0.10      0.17       314\n",
            "           5       1.00      0.03      0.06       127\n",
            "\n",
            "    accuracy                           0.68      3990\n",
            "   macro avg       0.87      0.44      0.45      3990\n",
            "weighted avg       0.77      0.68      0.62      3990\n",
            "\n",
            "\n",
            "\n",
            "Train f1:  0.7043560230052831\n",
            "Test f1:  0.6242155822209945\n",
            "\n",
            "Train accuracy score:  0.7492636460487561\n",
            "Test accuracy score:  0.6827067669172933\n"
          ]
        }
      ],
      "source": [
        "from sklearn.naive_bayes import MultinomialNB\n",
        "\n",
        "mnb = MultinomialNB()\n",
        "\n",
        "mnb = check_scores(mnb, X_train_tfidf, X_test_tfidf, y_train, y_test)"
      ]
    },
    {
      "cell_type": "code",
      "execution_count": null,
      "id": "77d339ac",
      "metadata": {
        "colab": {
          "base_uri": "https://localhost:8080/",
          "height": 1000
        },
        "id": "77d339ac",
        "outputId": "f45aae1d-2f0c-4b45-d905-5a826f0e994c"
      },
      "outputs": [
        {
          "data": {
            "text/plain": [
              "<Figure size 720x720 with 0 Axes>"
            ]
          },
          "metadata": {},
          "output_type": "display_data"
        },
        {
          "data": {
            "image/png": "[encoded data removed]",
            "text/plain": [
              "<Figure size 432x288 with 2 Axes>"
            ]
          },
          "metadata": {
            "needs_background": "light"
          },
          "output_type": "display_data"
        },
        {
          "data": {
            "text/plain": [
              "<Figure size 720x720 with 0 Axes>"
            ]
          },
          "metadata": {},
          "output_type": "display_data"
        },
        {
          "data": {
            "image/png": "[encoded data removed]",
            "text/plain": [
              "<Figure size 432x288 with 2 Axes>"
            ]
          },
          "metadata": {
            "needs_background": "light"
          },
          "output_type": "display_data"
        },
        {
          "name": "stdout",
          "output_type": "stream",
          "text": [
            "\n",
            "              precision    recall  f1-score   support\n",
            "\n",
            "           0       0.84      0.91      0.87      1374\n",
            "           1       0.89      0.88      0.89      1136\n",
            "           2       0.87      0.83      0.85       529\n",
            "           3       0.85      0.81      0.83       510\n",
            "           4       0.79      0.69      0.74       314\n",
            "           5       0.80      0.71      0.75       127\n",
            "\n",
            "    accuracy                           0.86      3990\n",
            "   macro avg       0.84      0.81      0.82      3990\n",
            "weighted avg       0.86      0.86      0.85      3990\n",
            "\n",
            "\n",
            "\n",
            "Train f1:  0.9984959356393904\n",
            "Test f1:  0.8541224197684715\n",
            "\n",
            "Train accuracy score:  0.9984959578868209\n",
            "Test accuracy score:  0.8551378446115289\n"
          ]
        }
      ],
      "source": [
        "from sklearn.ensemble import RandomForestClassifier\n",
        "\n",
        "rfc = RandomForestClassifier(n_jobs=-1)\n",
        "\n",
        "rfc = check_scores(rfc, X_train_tfidf, X_test_tfidf, y_train, y_test)\n",
        "\n",
        "import pickle\n",
        "pickle.dump(rfc, open('rfc_model.pkl', 'wb'))"
      ]
    },
    {
      "cell_type": "code",
      "execution_count": null,
      "id": "6b422e2e",
      "metadata": {
        "id": "6b422e2e",
        "outputId": "74e34890-8961-48c1-d4f4-ca19055a3c91"
      },
      "outputs": [
        {
          "data": {
            "text/plain": [
              "<Figure size 720x720 with 0 Axes>"
            ]
          },
          "metadata": {},
          "output_type": "display_data"
        },
        {
          "data": {
            "image/png": "[encoded data removed]",
            "text/plain": [
              "<Figure size 432x288 with 2 Axes>"
            ]
          },
          "metadata": {
            "needs_background": "light"
          },
          "output_type": "display_data"
        },
        {
          "data": {
            "text/plain": [
              "<Figure size 720x720 with 0 Axes>"
            ]
          },
          "metadata": {},
          "output_type": "display_data"
        },
        {
          "data": {
            "image/png": "[encoded data removed]",
            "text/plain": [
              "<Figure size 432x288 with 2 Axes>"
            ]
          },
          "metadata": {
            "needs_background": "light"
          },
          "output_type": "display_data"
        },
        {
          "name": "stdout",
          "output_type": "stream",
          "text": [
            "\n",
            "              precision    recall  f1-score   support\n",
            "\n",
            "           0       0.65      0.93      0.76      1374\n",
            "           1       0.92      0.71      0.80      1136\n",
            "           2       0.92      0.66      0.77       529\n",
            "           3       0.89      0.65      0.75       510\n",
            "           4       0.81      0.61      0.69       314\n",
            "           5       0.73      0.78      0.76       127\n",
            "\n",
            "    accuracy                           0.77      3990\n",
            "   macro avg       0.82      0.72      0.76      3990\n",
            "weighted avg       0.81      0.77      0.77      3990\n",
            "\n",
            "\n",
            "\n",
            "Train f1:  0.8213064987506685\n",
            "Test f1:  0.7675607313289946\n",
            "\n",
            "Train accuracy score:  0.8200789622109419\n",
            "Test accuracy score:  0.7671679197994987\n"
          ]
        }
      ],
      "source": [
        "from sklearn.ensemble import GradientBoostingClassifier\n",
        "\n",
        "gbc = GradientBoostingClassifier()\n",
        "gbc = check_scores(gbc, X_train_tfidf, X_test_tfidf, y_train, y_test)\n"
      ]
    },
    {
      "cell_type": "markdown",
      "id": "wywfqWaUdgVs",
      "metadata": {
        "id": "wywfqWaUdgVs"
      },
      "source": [
        "### Predicting for new text:"
      ]
    },
    {
      "cell_type": "code",
      "execution_count": null,
      "id": "smTUVvh7RUFX",
      "metadata": {
        "id": "smTUVvh7RUFX"
      },
      "outputs": [],
      "source": [
        "import pickle\n",
        "rfc = pickle.load(open('rfc_model.pkl', 'rb'))"
      ]
    },
    {
      "cell_type": "code",
      "execution_count": null,
      "id": "C6HYRk6ddfx5",
      "metadata": {
        "id": "C6HYRk6ddfx5",
        "outputId": "89e79c89-ad3f-4f41-c033-a1dc96cd9779"
      },
      "outputs": [
        {
          "data": {
            "text/plain": [
              "'anger'"
            ]
          },
          "execution_count": 58,
          "metadata": {},
          "output_type": "execute_result"
        }
      ],
      "source": [
        "string = 'happiness is a warm gun'\n",
        "# note, text should go through the same cleaning procedure\n",
        "transformed_text = tfidf.transform([string])\n",
        "i2e[rfc.predict(transformed_text)[0]]"
      ]
    },
    {
      "cell_type": "code",
      "execution_count": null,
      "id": "2ybVdlhpObo9",
      "metadata": {
        "colab": {
          "base_uri": "https://localhost:8080/"
        },
        "id": "2ybVdlhpObo9",
        "outputId": "8090e00b-b652-40bc-ba2e-b3b5fda43014"
      },
      "outputs": [
        {
          "data": {
            "text/plain": [
              "'fear'"
            ]
          },
          "execution_count": 62,
          "metadata": {},
          "output_type": "execute_result"
        }
      ],
      "source": [
        "string = 'stop crying your heart out'\n",
        "# note, text should go through the same cleaning procedure\n",
        "transformed_text = tfidf.transform([string])\n",
        "i2e[rfc.predict(transformed_text)[0]]"
      ]
    },
    {
      "cell_type": "markdown",
      "id": "50b9c34f",
      "metadata": {
        "id": "50b9c34f"
      },
      "source": [
        "## Are we missing something?"
      ]
    },
    {
      "cell_type": "markdown",
      "id": "352fb90f",
      "metadata": {
        "id": "352fb90f"
      },
      "source": [
        "![OOD](img.png)"
      ]
    },
    {
      "cell_type": "markdown",
      "id": "819c75ac",
      "metadata": {
        "id": "819c75ac"
      },
      "source": [
        "### Emotions vs sentiments"
      ]
    },
    {
      "cell_type": "code",
      "execution_count": null,
      "id": "28d64848",
      "metadata": {
        "id": "28d64848"
      },
      "outputs": [],
      "source": [
        "from textblob import TextBlob\n",
        "\n",
        "pol_tb = lambda x: TextBlob(x).sentiment.polarity\n",
        "sub_tb = lambda x: TextBlob(x).sentiment.subjectivity\n",
        "\n",
        "df['polarity_tb'] = df['text'].apply(pol_tb)\n",
        "df['subjectivity_tb'] = df['text'].apply(sub_tb)\n",
        "\n",
        "emotion_averages = df.groupby('emotion_txt')[['polarity_tb', 'subjectivity_tb']].mean().reset_index()"
      ]
    },
    {
      "cell_type": "code",
      "execution_count": null,
      "id": "67400ab5",
      "metadata": {
        "id": "67400ab5",
        "outputId": "cae1e8b1-274e-4977-d113-3e7acdca7e0a"
      },
      "outputs": [
        {
          "data": {
            "text/html": [
              "<div>\n",
              "<style scoped>\n",
              "    .dataframe tbody tr th:only-of-type {\n",
              "        vertical-align: middle;\n",
              "    }\n",
              "\n",
              "    .dataframe tbody tr th {\n",
              "        vertical-align: top;\n",
              "    }\n",
              "\n",
              "    .dataframe thead th {\n",
              "        text-align: right;\n",
              "    }\n",
              "</style>\n",
              "<table border=\"1\" class=\"dataframe\">\n",
              "  <thead>\n",
              "    <tr style=\"text-align: right;\">\n",
              "      <th></th>\n",
              "      <th>emotion_txt</th>\n",
              "      <th>polarity_tb</th>\n",
              "      <th>subjectivity_tb</th>\n",
              "    </tr>\n",
              "  </thead>\n",
              "  <tbody>\n",
              "    <tr>\n",
              "      <th>0</th>\n",
              "      <td>anger</td>\n",
              "      <td>-0.100165</td>\n",
              "      <td>0.478725</td>\n",
              "    </tr>\n",
              "    <tr>\n",
              "      <th>1</th>\n",
              "      <td>fear</td>\n",
              "      <td>-0.059723</td>\n",
              "      <td>0.461128</td>\n",
              "    </tr>\n",
              "    <tr>\n",
              "      <th>2</th>\n",
              "      <td>joy</td>\n",
              "      <td>0.250720</td>\n",
              "      <td>0.552062</td>\n",
              "    </tr>\n",
              "    <tr>\n",
              "      <th>3</th>\n",
              "      <td>love</td>\n",
              "      <td>0.171699</td>\n",
              "      <td>0.572435</td>\n",
              "    </tr>\n",
              "    <tr>\n",
              "      <th>4</th>\n",
              "      <td>sadness</td>\n",
              "      <td>-0.107594</td>\n",
              "      <td>0.490592</td>\n",
              "    </tr>\n",
              "    <tr>\n",
              "      <th>5</th>\n",
              "      <td>surprise</td>\n",
              "      <td>0.044648</td>\n",
              "      <td>0.610824</td>\n",
              "    </tr>\n",
              "  </tbody>\n",
              "</table>\n",
              "</div>"
            ],
            "text/plain": [
              "  emotion_txt  polarity_tb  subjectivity_tb\n",
              "0       anger    -0.100165         0.478725\n",
              "1        fear    -0.059723         0.461128\n",
              "2         joy     0.250720         0.552062\n",
              "3        love     0.171699         0.572435\n",
              "4     sadness    -0.107594         0.490592\n",
              "5    surprise     0.044648         0.610824"
            ]
          },
          "execution_count": 12,
          "metadata": {},
          "output_type": "execute_result"
        }
      ],
      "source": [
        "emotion_averages"
      ]
    },
    {
      "cell_type": "code",
      "execution_count": null,
      "id": "96d5d1a2",
      "metadata": {
        "id": "96d5d1a2",
        "outputId": "f9299091-a5a8-4183-f53e-44b9f2fd6587"
      },
      "outputs": [
        {
          "data": {
            "image/png": "[encoded data removed]",
            "text/plain": [
              "<Figure size 1000x600 with 1 Axes>"
            ]
          },
          "metadata": {},
          "output_type": "display_data"
        }
      ],
      "source": [
        "import matplotlib.pyplot as plt\n",
        "\n",
        "# Assuming emotion_averages is already created as before\n",
        "# and has columns: 'emotion', 'polarity', 'subjectivity'\n",
        "\n",
        "plt.figure(figsize=(10, 6))\n",
        "plt.scatter(emotion_averages['polarity_tb'], emotion_averages['subjectivity_tb'], s=100)\n",
        "\n",
        "# Annotate each point with the emotion label\n",
        "for i, row in emotion_averages.iterrows():\n",
        "    plt.text(row['polarity_tb'] + 0.001, row['subjectivity_tb'] + 0.001, row['emotion_txt'], fontsize=9)\n",
        "\n",
        "plt.title('Emotion vs Polarity and Subjectivity')\n",
        "plt.xlabel('Average Polarity')\n",
        "plt.ylabel('Average Subjectivity')\n",
        "plt.grid(True)\n",
        "plt.axhline(0.5, color='gray', linestyle='--', linewidth=0.5)\n",
        "plt.axvline(0.0, color='gray', linestyle='--', linewidth=0.5)\n",
        "plt.show()\n"
      ]
    },
    {
      "cell_type": "markdown",
      "id": "12822850",
      "metadata": {
        "id": "12822850"
      },
      "source": [
        "### Why are people angry?"
      ]
    },
    {
      "cell_type": "code",
      "execution_count": 17,
      "id": "3c977ede",
      "metadata": {
        "id": "3c977ede"
      },
      "outputs": [],
      "source": [
        "df_anger = df[df['emotion_txt'] == 'anger']"
      ]
    },
    {
      "cell_type": "code",
      "execution_count": 12,
      "id": "988b4d6c",
      "metadata": {
        "colab": {
          "base_uri": "https://localhost:8080/"
        },
        "id": "988b4d6c",
        "outputId": "970a273b-8b68-42db-8634-49c306fc79f9"
      },
      "outputs": [
        {
          "output_type": "stream",
          "name": "stdout",
          "text": [
            "Collecting bertopic\n",
            "  Using cached bertopic-0.17.0-py3-none-any.whl.metadata (23 kB)\n",
            "Requirement already satisfied: hdbscan>=0.8.29 in /usr/local/lib/python3.11/dist-packages (from bertopic) (0.8.40)\n",
            "Requirement already satisfied: numpy>=1.20.0 in /usr/local/lib/python3.11/dist-packages (from bertopic) (2.0.2)\n",
            "Requirement already satisfied: pandas>=1.1.5 in /usr/local/lib/python3.11/dist-packages (from bertopic) (2.2.2)\n",
            "Requirement already satisfied: plotly>=4.7.0 in /usr/local/lib/python3.11/dist-packages (from bertopic) (5.24.1)\n",
            "Requirement already satisfied: scikit-learn>=1.0 in /usr/local/lib/python3.11/dist-packages (from bertopic) (1.6.1)\n",
            "Requirement already satisfied: sentence-transformers>=0.4.1 in /usr/local/lib/python3.11/dist-packages (from bertopic) (4.1.0)\n",
            "Requirement already satisfied: tqdm>=4.41.1 in /usr/local/lib/python3.11/dist-packages (from bertopic) (4.67.1)\n",
            "Requirement already satisfied: umap-learn>=0.5.0 in /usr/local/lib/python3.11/dist-packages (from bertopic) (0.5.7)\n",
            "Requirement already satisfied: scipy>=1.0 in /usr/local/lib/python3.11/dist-packages (from hdbscan>=0.8.29->bertopic) (1.15.3)\n",
            "Requirement already satisfied: joblib>=1.0 in /usr/local/lib/python3.11/dist-packages (from hdbscan>=0.8.29->bertopic) (1.5.0)\n",
            "Requirement already satisfied: python-dateutil>=2.8.2 in /usr/local/lib/python3.11/dist-packages (from pandas>=1.1.5->bertopic) (2.9.0.post0)\n",
            "Requirement already satisfied: pytz>=2020.1 in /usr/local/lib/python3.11/dist-packages (from pandas>=1.1.5->bertopic) (2025.2)\n",
            "Requirement already satisfied: tzdata>=2022.7 in /usr/local/lib/python3.11/dist-packages (from pandas>=1.1.5->bertopic) (2025.2)\n",
            "Requirement already satisfied: tenacity>=6.2.0 in /usr/local/lib/python3.11/dist-packages (from plotly>=4.7.0->bertopic) (9.1.2)\n",
            "Requirement already satisfied: packaging in /usr/local/lib/python3.11/dist-packages (from plotly>=4.7.0->bertopic) (24.2)\n",
            "Requirement already satisfied: threadpoolctl>=3.1.0 in /usr/local/lib/python3.11/dist-packages (from scikit-learn>=1.0->bertopic) (3.6.0)\n",
            "Requirement already satisfied: transformers<5.0.0,>=4.41.0 in /usr/local/lib/python3.11/dist-packages (from sentence-transformers>=0.4.1->bertopic) (4.51.3)\n",
            "Requirement already satisfied: torch>=1.11.0 in /usr/local/lib/python3.11/dist-packages (from sentence-transformers>=0.4.1->bertopic) (2.6.0+cu124)\n",
            "Requirement already satisfied: huggingface-hub>=0.20.0 in /usr/local/lib/python3.11/dist-packages (from sentence-transformers>=0.4.1->bertopic) (0.31.1)\n",
            "Requirement already satisfied: Pillow in /usr/local/lib/python3.11/dist-packages (from sentence-transformers>=0.4.1->bertopic) (11.2.1)\n",
            "Requirement already satisfied: typing_extensions>=4.5.0 in /usr/local/lib/python3.11/dist-packages (from sentence-transformers>=0.4.1->bertopic) (4.13.2)\n",
            "Requirement already satisfied: numba>=0.51.2 in /usr/local/lib/python3.11/dist-packages (from umap-learn>=0.5.0->bertopic) (0.60.0)\n",
            "Requirement already satisfied: pynndescent>=0.5 in /usr/local/lib/python3.11/dist-packages (from umap-learn>=0.5.0->bertopic) (0.5.13)\n",
            "Requirement already satisfied: filelock in /usr/local/lib/python3.11/dist-packages (from huggingface-hub>=0.20.0->sentence-transformers>=0.4.1->bertopic) (3.18.0)\n",
            "Requirement already satisfied: fsspec>=2023.5.0 in /usr/local/lib/python3.11/dist-packages (from huggingface-hub>=0.20.0->sentence-transformers>=0.4.1->bertopic) (2025.3.2)\n",
            "Requirement already satisfied: pyyaml>=5.1 in /usr/local/lib/python3.11/dist-packages (from huggingface-hub>=0.20.0->sentence-transformers>=0.4.1->bertopic) (6.0.2)\n",
            "Requirement already satisfied: requests in /usr/local/lib/python3.11/dist-packages (from huggingface-hub>=0.20.0->sentence-transformers>=0.4.1->bertopic) (2.32.3)\n",
            "Requirement already satisfied: hf-xet<2.0.0,>=1.1.0 in /usr/local/lib/python3.11/dist-packages (from huggingface-hub>=0.20.0->sentence-transformers>=0.4.1->bertopic) (1.1.0)\n",
            "Requirement already satisfied: llvmlite<0.44,>=0.43.0dev0 in /usr/local/lib/python3.11/dist-packages (from numba>=0.51.2->umap-learn>=0.5.0->bertopic) (0.43.0)\n",
            "Requirement already satisfied: six>=1.5 in /usr/local/lib/python3.11/dist-packages (from python-dateutil>=2.8.2->pandas>=1.1.5->bertopic) (1.17.0)\n",
            "Requirement already satisfied: networkx in /usr/local/lib/python3.11/dist-packages (from torch>=1.11.0->sentence-transformers>=0.4.1->bertopic) (3.4.2)\n",
            "Requirement already satisfied: jinja2 in /usr/local/lib/python3.11/dist-packages (from torch>=1.11.0->sentence-transformers>=0.4.1->bertopic) (3.1.6)\n",
            "Collecting nvidia-cuda-nvrtc-cu12==12.4.127 (from torch>=1.11.0->sentence-transformers>=0.4.1->bertopic)\n",
            "  Using cached nvidia_cuda_nvrtc_cu12-12.4.127-py3-none-manylinux2014_x86_64.whl.metadata (1.5 kB)\n",
            "Collecting nvidia-cuda-runtime-cu12==12.4.127 (from torch>=1.11.0->sentence-transformers>=0.4.1->bertopic)\n",
            "  Using cached nvidia_cuda_runtime_cu12-12.4.127-py3-none-manylinux2014_x86_64.whl.metadata (1.5 kB)\n",
            "Collecting nvidia-cuda-cupti-cu12==12.4.127 (from torch>=1.11.0->sentence-transformers>=0.4.1->bertopic)\n",
            "  Using cached nvidia_cuda_cupti_cu12-12.4.127-py3-none-manylinux2014_x86_64.whl.metadata (1.6 kB)\n",
            "Collecting nvidia-cudnn-cu12==9.1.0.70 (from torch>=1.11.0->sentence-transformers>=0.4.1->bertopic)\n",
            "  Using cached nvidia_cudnn_cu12-9.1.0.70-py3-none-manylinux2014_x86_64.whl.metadata (1.6 kB)\n",
            "Collecting nvidia-cublas-cu12==12.4.5.8 (from torch>=1.11.0->sentence-transformers>=0.4.1->bertopic)\n",
            "  Using cached nvidia_cublas_cu12-12.4.5.8-py3-none-manylinux2014_x86_64.whl.metadata (1.5 kB)\n",
            "Collecting nvidia-cufft-cu12==11.2.1.3 (from torch>=1.11.0->sentence-transformers>=0.4.1->bertopic)\n",
            "  Using cached nvidia_cufft_cu12-11.2.1.3-py3-none-manylinux2014_x86_64.whl.metadata (1.5 kB)\n",
            "Collecting nvidia-curand-cu12==10.3.5.147 (from torch>=1.11.0->sentence-transformers>=0.4.1->bertopic)\n",
            "  Using cached nvidia_curand_cu12-10.3.5.147-py3-none-manylinux2014_x86_64.whl.metadata (1.5 kB)\n",
            "Collecting nvidia-cusolver-cu12==11.6.1.9 (from torch>=1.11.0->sentence-transformers>=0.4.1->bertopic)\n",
            "  Using cached nvidia_cusolver_cu12-11.6.1.9-py3-none-manylinux2014_x86_64.whl.metadata (1.6 kB)\n",
            "Collecting nvidia-cusparse-cu12==12.3.1.170 (from torch>=1.11.0->sentence-transformers>=0.4.1->bertopic)\n",
            "  Using cached nvidia_cusparse_cu12-12.3.1.170-py3-none-manylinux2014_x86_64.whl.metadata (1.6 kB)\n",
            "Requirement already satisfied: nvidia-cusparselt-cu12==0.6.2 in /usr/local/lib/python3.11/dist-packages (from torch>=1.11.0->sentence-transformers>=0.4.1->bertopic) (0.6.2)\n",
            "Requirement already satisfied: nvidia-nccl-cu12==2.21.5 in /usr/local/lib/python3.11/dist-packages (from torch>=1.11.0->sentence-transformers>=0.4.1->bertopic) (2.21.5)\n",
            "Requirement already satisfied: nvidia-nvtx-cu12==12.4.127 in /usr/local/lib/python3.11/dist-packages (from torch>=1.11.0->sentence-transformers>=0.4.1->bertopic) (12.4.127)\n",
            "Collecting nvidia-nvjitlink-cu12==12.4.127 (from torch>=1.11.0->sentence-transformers>=0.4.1->bertopic)\n",
            "  Using cached nvidia_nvjitlink_cu12-12.4.127-py3-none-manylinux2014_x86_64.whl.metadata (1.5 kB)\n",
            "Requirement already satisfied: triton==3.2.0 in /usr/local/lib/python3.11/dist-packages (from torch>=1.11.0->sentence-transformers>=0.4.1->bertopic) (3.2.0)\n",
            "Requirement already satisfied: sympy==1.13.1 in /usr/local/lib/python3.11/dist-packages (from torch>=1.11.0->sentence-transformers>=0.4.1->bertopic) (1.13.1)\n",
            "Requirement already satisfied: mpmath<1.4,>=1.1.0 in /usr/local/lib/python3.11/dist-packages (from sympy==1.13.1->torch>=1.11.0->sentence-transformers>=0.4.1->bertopic) (1.3.0)\n",
            "Requirement already satisfied: regex!=2019.12.17 in /usr/local/lib/python3.11/dist-packages (from transformers<5.0.0,>=4.41.0->sentence-transformers>=0.4.1->bertopic) (2024.11.6)\n",
            "Requirement already satisfied: tokenizers<0.22,>=0.21 in /usr/local/lib/python3.11/dist-packages (from transformers<5.0.0,>=4.41.0->sentence-transformers>=0.4.1->bertopic) (0.21.1)\n",
            "Requirement already satisfied: safetensors>=0.4.3 in /usr/local/lib/python3.11/dist-packages (from transformers<5.0.0,>=4.41.0->sentence-transformers>=0.4.1->bertopic) (0.5.3)\n",
            "Requirement already satisfied: MarkupSafe>=2.0 in /usr/local/lib/python3.11/dist-packages (from jinja2->torch>=1.11.0->sentence-transformers>=0.4.1->bertopic) (3.0.2)\n",
            "Requirement already satisfied: charset-normalizer<4,>=2 in /usr/local/lib/python3.11/dist-packages (from requests->huggingface-hub>=0.20.0->sentence-transformers>=0.4.1->bertopic) (3.4.2)\n",
            "Requirement already satisfied: idna<4,>=2.5 in /usr/local/lib/python3.11/dist-packages (from requests->huggingface-hub>=0.20.0->sentence-transformers>=0.4.1->bertopic) (3.10)\n",
            "Requirement already satisfied: urllib3<3,>=1.21.1 in /usr/local/lib/python3.11/dist-packages (from requests->huggingface-hub>=0.20.0->sentence-transformers>=0.4.1->bertopic) (2.4.0)\n",
            "Requirement already satisfied: certifi>=2017.4.17 in /usr/local/lib/python3.11/dist-packages (from requests->huggingface-hub>=0.20.0->sentence-transformers>=0.4.1->bertopic) (2025.4.26)\n",
            "Using cached bertopic-0.17.0-py3-none-any.whl (150 kB)\n",
            "Using cached nvidia_cublas_cu12-12.4.5.8-py3-none-manylinux2014_x86_64.whl (363.4 MB)\n",
            "Using cached nvidia_cuda_cupti_cu12-12.4.127-py3-none-manylinux2014_x86_64.whl (13.8 MB)\n",
            "Using cached nvidia_cuda_nvrtc_cu12-12.4.127-py3-none-manylinux2014_x86_64.whl (24.6 MB)\n",
            "Using cached nvidia_cuda_runtime_cu12-12.4.127-py3-none-manylinux2014_x86_64.whl (883 kB)\n",
            "Using cached nvidia_cudnn_cu12-9.1.0.70-py3-none-manylinux2014_x86_64.whl (664.8 MB)\n",
            "Using cached nvidia_cufft_cu12-11.2.1.3-py3-none-manylinux2014_x86_64.whl (211.5 MB)\n",
            "Using cached nvidia_curand_cu12-10.3.5.147-py3-none-manylinux2014_x86_64.whl (56.3 MB)\n",
            "Downloading nvidia_cusolver_cu12-11.6.1.9-py3-none-manylinux2014_x86_64.whl (127.9 MB)\n",
            "\u001b[2K   \u001b[90m━━━━━━━━━━━━━━━━━━━━━━━━━━━━━━━━━━━━━━━━\u001b[0m \u001b[32m127.9/127.9 MB\u001b[0m \u001b[31m10.2 MB/s\u001b[0m eta \u001b[36m0:00:00\u001b[0m\n",
            "\u001b[?25hUsing cached nvidia_cusparse_cu12-12.3.1.170-py3-none-manylinux2014_x86_64.whl (207.5 MB)\n",
            "Using cached nvidia_nvjitlink_cu12-12.4.127-py3-none-manylinux2014_x86_64.whl (21.1 MB)\n",
            "Installing collected packages: nvidia-nvjitlink-cu12, nvidia-curand-cu12, nvidia-cufft-cu12, nvidia-cuda-runtime-cu12, nvidia-cuda-nvrtc-cu12, nvidia-cuda-cupti-cu12, nvidia-cublas-cu12, nvidia-cusparse-cu12, nvidia-cudnn-cu12, nvidia-cusolver-cu12, bertopic\n",
            "  Attempting uninstall: nvidia-nvjitlink-cu12\n",
            "    Found existing installation: nvidia-nvjitlink-cu12 12.5.82\n",
            "    Uninstalling nvidia-nvjitlink-cu12-12.5.82:\n",
            "      Successfully uninstalled nvidia-nvjitlink-cu12-12.5.82\n",
            "  Attempting uninstall: nvidia-curand-cu12\n",
            "    Found existing installation: nvidia-curand-cu12 10.3.6.82\n",
            "    Uninstalling nvidia-curand-cu12-10.3.6.82:\n",
            "      Successfully uninstalled nvidia-curand-cu12-10.3.6.82\n",
            "  Attempting uninstall: nvidia-cufft-cu12\n",
            "    Found existing installation: nvidia-cufft-cu12 11.2.3.61\n",
            "    Uninstalling nvidia-cufft-cu12-11.2.3.61:\n",
            "      Successfully uninstalled nvidia-cufft-cu12-11.2.3.61\n",
            "  Attempting uninstall: nvidia-cuda-runtime-cu12\n",
            "    Found existing installation: nvidia-cuda-runtime-cu12 12.5.82\n",
            "    Uninstalling nvidia-cuda-runtime-cu12-12.5.82:\n",
            "      Successfully uninstalled nvidia-cuda-runtime-cu12-12.5.82\n",
            "  Attempting uninstall: nvidia-cuda-nvrtc-cu12\n",
            "    Found existing installation: nvidia-cuda-nvrtc-cu12 12.5.82\n",
            "    Uninstalling nvidia-cuda-nvrtc-cu12-12.5.82:\n",
            "      Successfully uninstalled nvidia-cuda-nvrtc-cu12-12.5.82\n",
            "  Attempting uninstall: nvidia-cuda-cupti-cu12\n",
            "    Found existing installation: nvidia-cuda-cupti-cu12 12.5.82\n",
            "    Uninstalling nvidia-cuda-cupti-cu12-12.5.82:\n",
            "      Successfully uninstalled nvidia-cuda-cupti-cu12-12.5.82\n",
            "  Attempting uninstall: nvidia-cublas-cu12\n",
            "    Found existing installation: nvidia-cublas-cu12 12.5.3.2\n",
            "    Uninstalling nvidia-cublas-cu12-12.5.3.2:\n",
            "      Successfully uninstalled nvidia-cublas-cu12-12.5.3.2\n",
            "  Attempting uninstall: nvidia-cusparse-cu12\n",
            "    Found existing installation: nvidia-cusparse-cu12 12.5.1.3\n",
            "    Uninstalling nvidia-cusparse-cu12-12.5.1.3:\n",
            "      Successfully uninstalled nvidia-cusparse-cu12-12.5.1.3\n",
            "  Attempting uninstall: nvidia-cudnn-cu12\n",
            "    Found existing installation: nvidia-cudnn-cu12 9.3.0.75\n",
            "    Uninstalling nvidia-cudnn-cu12-9.3.0.75:\n",
            "      Successfully uninstalled nvidia-cudnn-cu12-9.3.0.75\n",
            "  Attempting uninstall: nvidia-cusolver-cu12\n",
            "    Found existing installation: nvidia-cusolver-cu12 11.6.3.83\n",
            "    Uninstalling nvidia-cusolver-cu12-11.6.3.83:\n",
            "      Successfully uninstalled nvidia-cusolver-cu12-11.6.3.83\n",
            "Successfully installed bertopic-0.17.0 nvidia-cublas-cu12-12.4.5.8 nvidia-cuda-cupti-cu12-12.4.127 nvidia-cuda-nvrtc-cu12-12.4.127 nvidia-cuda-runtime-cu12-12.4.127 nvidia-cudnn-cu12-9.1.0.70 nvidia-cufft-cu12-11.2.1.3 nvidia-curand-cu12-10.3.5.147 nvidia-cusolver-cu12-11.6.1.9 nvidia-cusparse-cu12-12.3.1.170 nvidia-nvjitlink-cu12-12.4.127\n"
          ]
        }
      ],
      "source": [
        "!pip install bertopic"
      ]
    },
    {
      "cell_type": "code",
      "execution_count": 19,
      "id": "42e1a6fe",
      "metadata": {
        "id": "42e1a6fe"
      },
      "outputs": [],
      "source": [
        "from bertopic import BERTopic\n",
        "\n",
        "topic_model = BERTopic()\n",
        "topics, probs = topic_model.fit_transform(df_anger['text'])\n",
        "\n"
      ]
    },
    {
      "cell_type": "code",
      "source": [
        "topic_model.get_topic_info()"
      ],
      "metadata": {
        "colab": {
          "base_uri": "https://localhost:8080/",
          "height": 1000
        },
        "id": "z7Kq4mVZnfHk",
        "outputId": "5e345fe4-81c9-4195-9868-4e8cadeaefa5"
      },
      "id": "z7Kq4mVZnfHk",
      "execution_count": 21,
      "outputs": [
        {
          "output_type": "execute_result",
          "data": {
            "text/plain": [
              "    Topic  Count                                   Name  \\\n",
              "0      -1    334                       -1_to_the_and_my   \n",
              "1       0     73                  0_angry_mad_pissed_so   \n",
              "2       1     60             1_offended_insulted_you_as   \n",
              "3       2     46        2_dissatisfied_with_buy_feeling   \n",
              "4       3     43      3_irritable_irritated_feeling_and   \n",
              "5       4     41           4_jealous_envious_of_feeling   \n",
              "6       5     41                     5_rude_me_that_its   \n",
              "7       6     39               6_distracted_need_to_get   \n",
              "8       7     39          7_hated_hateful_feel_despised   \n",
              "9       8     35               8_selfish_for_feel_being   \n",
              "10      9     34                  9_cold_the_air_winter   \n",
              "11     10     34                  10_her_she_that_every   \n",
              "12     11     33                      11_he_him_we_that   \n",
              "13     12     33  12_rebellious_music_listening_feeling   \n",
              "14     13     32   13_agitated_getting_feel_concentrate   \n",
              "15     14     31             14_cranky_feeling_sleep_im   \n",
              "16     15     28             15_bitter_birthday_was_but   \n",
              "17     16     28               16_greedy_feel_but_happy   \n",
              "18     17     26             17_dangerous_is_gotta_vibe   \n",
              "19     18     25           18_fucked_up_feel_everything   \n",
              "20     19     25           19_tortured_the_torture_your   \n",
              "21     20     24               20_impatient_am_truly_im   \n",
              "22     21     23        21_stressed_all_feeling_breathe   \n",
              "23     22     23          22_violent_animals_punch_feel   \n",
              "24     23     22                 23_rushed_like_we_this   \n",
              "25     24     21         24_grouchy_grumpy_feeling_past   \n",
              "26     25     20         25_disgusted_smell_old_similar   \n",
              "27     26     19             26_stubborn_back_being_too   \n",
              "28     27     17  27_frustrated_class_advanced_studying   \n",
              "29     28     17               28_bitchy_as_emo_tonight   \n",
              "30     29     16                  29_book_movie_read_in   \n",
              "31     30     16      30_petty_things_thoughts_reacting   \n",
              "32     31     15                 31_bothered_by_be_word   \n",
              "33     32     15               32_wronged_my_others_are   \n",
              "34     33     13    33_outraged_morally_whether_furious   \n",
              "35     34     13           34_annoyed_was_extremely_yes   \n",
              "36     35     11         35_heartless_change_love_heart   \n",
              "37     36     10             36_dream_friend_when_ocean   \n",
              "\n",
              "                                       Representation  \\\n",
              "0   [to, the, and, my, was, of, it, feel, in, feel...   \n",
              "1   [angry, mad, pissed, so, feel, about, off, sad...   \n",
              "2   [offended, insulted, you, as, that, feel, not,...   \n",
              "3   [dissatisfied, with, buy, feeling, and, myself...   \n",
              "4   [irritable, irritated, feeling, and, im, latel...   \n",
              "5   [jealous, envious, of, feeling, their, can, to...   \n",
              "6   [rude, me, that, its, hostile, to, people, lik...   \n",
              "7   [distracted, need, to, get, like, waiting, day...   \n",
              "8   [hated, hateful, feel, despised, like, that, a...   \n",
              "9   [selfish, for, feel, being, myself, in, alone,...   \n",
              "10  [cold, the, air, winter, weather, feeling, for...   \n",
              "11  [her, she, that, every, were, kept, and, bitch...   \n",
              "12  [he, him, we, that, giving, how, and, at, fix,...   \n",
              "13  [rebellious, music, listening, feeling, listen...   \n",
              "14  [agitated, getting, feel, concentrate, start, ...   \n",
              "15  [cranky, feeling, sleep, im, morning, nap, am,...   \n",
              "16  [bitter, birthday, was, but, last, feeling, da...   \n",
              "17  [greedy, feel, but, happy, hope, you, gna, too...   \n",
              "18  [dangerous, is, gotta, vibe, pretty, feelings,...   \n",
              "19  [fucked, up, feel, everything, so, need, like,...   \n",
              "20  [tortured, the, torture, your, for, feel, lips...   \n",
              "21  [impatient, am, truly, im, will, feeling, to, ...   \n",
              "22  [stressed, all, feeling, breathe, when, or, on...   \n",
              "23  [violent, animals, punch, feel, of, pain, the,...   \n",
              "24  [rushed, like, we, this, will, prize, final, m...   \n",
              "25  [grouchy, grumpy, feeling, past, bit, few, tod...   \n",
              "26  [disgusted, smell, old, similar, pictures, mys...   \n",
              "27  [stubborn, back, being, too, extra, feel, goin...   \n",
              "28  [frustrated, class, advanced, studying, an, an...   \n",
              "29  [bitchy, as, emo, tonight, mean, done, kind, l...   \n",
              "30  [book, movie, read, in, the, that, chapters, b...   \n",
              "31  [petty, things, thoughts, reacting, kind, this...   \n",
              "32  [bothered, by, be, word, miss, this, you, anym...   \n",
              "33  [wronged, my, others, are, or, and, have, that...   \n",
              "34  [outraged, morally, whether, furious, by, the,...   \n",
              "35  [annoyed, was, extremely, yes, while, feeling,...   \n",
              "36  [heartless, change, love, heart, lot, give, hu...   \n",
              "37  [dream, friend, when, ocean, infuriated, your,...   \n",
              "\n",
              "                                  Representative_Docs  \n",
              "0   [i wanted to say something to her but it was j...  \n",
              "1   [i feel so pissed about myself, i do feel angr...  \n",
              "2   [i think feeling insulted was a good thing may...  \n",
              "3   [i still feel dissatisfied, i feel very dissat...  \n",
              "4   [im feeling slightly irritable today, im feeli...  \n",
              "5   [i feel jealous with them why they can, i can ...  \n",
              "6   [i feel that they are just saying these things...  \n",
              "7   [i know there are days in which you feel distr...  \n",
              "8   [i feel hated by my parents, i hated that i hu...  \n",
              "9   [i feel selfish but i think it s about time i ...  \n",
              "10  [i love the feeling of running in the cold whe...  \n",
              "11  [i got the feeling she hated that that i would...  \n",
              "12  [im not sure how i feel about him yet he seeme...  \n",
              "13  [i listen to it i feel all rebellious, i guess...  \n",
              "14  [i start to feel agitated, i still feel so agi...  \n",
              "15  [i feel so cranky right now, im feeling a bit ...  \n",
              "16  [im feeling bitter towards them god, im feelin...  \n",
              "17  [i hope i did not make you feel greedy o shit ...  \n",
              "18  [i feel that the classroom is extremely danger...  \n",
              "19  [i feel so fucked up these days, i feel really...  \n",
              "20  [i say that i feel like im being tortured by h...  \n",
              "21  [i feel truly impatient that this is taking so...  \n",
              "22  [im feeling stressed about this more than i sh...  \n",
              "23  [i just feel really violent right now, i feel ...  \n",
              "24  [i feel that rushed prize giving really dilute...  \n",
              "25  [i was feeling grouchy and all, im feeling a b...  \n",
              "26  [i feel disgusted in any man in power who talk...  \n",
              "27  [i have the feeling that im going to be stubbo...  \n",
              "28  [i don t really believe because i walked throu...  \n",
              "29  [i feel times less bitchy, im feeling bitchy a...  \n",
              "30  [i refuse to rate the book but if she and her ...  \n",
              "31  [i feel petty things but not to the extent tha...  \n",
              "32  [i miss yall miss your comments and feedback a...  \n",
              "33  [i feel someone has been wronged when i feel i...  \n",
              "34  [i feel equally morally outraged regardless of...  \n",
              "35  [i was feeling a bit annoyed but it didnt real...  \n",
              "36  [i feel not heartless because my heart hurts s...  \n",
              "37  [i would watch him and feel frustrated he didn...  "
            ],
            "text/html": [
              "\n",
              "  <div id=\"df-615a061a-e0a4-4e3a-8bf7-b3696687c596\" class=\"colab-df-container\">\n",
              "    <div>\n",
              "<style scoped>\n",
              "    .dataframe tbody tr th:only-of-type {\n",
              "        vertical-align: middle;\n",
              "    }\n",
              "\n",
              "    .dataframe tbody tr th {\n",
              "        vertical-align: top;\n",
              "    }\n",
              "\n",
              "    .dataframe thead th {\n",
              "        text-align: right;\n",
              "    }\n",
              "</style>\n",
              "<table border=\"1\" class=\"dataframe\">\n",
              "  <thead>\n",
              "    <tr style=\"text-align: right;\">\n",
              "      <th></th>\n",
              "      <th>Topic</th>\n",
              "      <th>Count</th>\n",
              "      <th>Name</th>\n",
              "      <th>Representation</th>\n",
              "      <th>Representative_Docs</th>\n",
              "    </tr>\n",
              "  </thead>\n",
              "  <tbody>\n",
              "    <tr>\n",
              "      <th>0</th>\n",
              "      <td>-1</td>\n",
              "      <td>334</td>\n",
              "      <td>-1_to_the_and_my</td>\n",
              "      <td>[to, the, and, my, was, of, it, feel, in, feel...</td>\n",
              "      <td>[i wanted to say something to her but it was j...</td>\n",
              "    </tr>\n",
              "    <tr>\n",
              "      <th>1</th>\n",
              "      <td>0</td>\n",
              "      <td>73</td>\n",
              "      <td>0_angry_mad_pissed_so</td>\n",
              "      <td>[angry, mad, pissed, so, feel, about, off, sad...</td>\n",
              "      <td>[i feel so pissed about myself, i do feel angr...</td>\n",
              "    </tr>\n",
              "    <tr>\n",
              "      <th>2</th>\n",
              "      <td>1</td>\n",
              "      <td>60</td>\n",
              "      <td>1_offended_insulted_you_as</td>\n",
              "      <td>[offended, insulted, you, as, that, feel, not,...</td>\n",
              "      <td>[i think feeling insulted was a good thing may...</td>\n",
              "    </tr>\n",
              "    <tr>\n",
              "      <th>3</th>\n",
              "      <td>2</td>\n",
              "      <td>46</td>\n",
              "      <td>2_dissatisfied_with_buy_feeling</td>\n",
              "      <td>[dissatisfied, with, buy, feeling, and, myself...</td>\n",
              "      <td>[i still feel dissatisfied, i feel very dissat...</td>\n",
              "    </tr>\n",
              "    <tr>\n",
              "      <th>4</th>\n",
              "      <td>3</td>\n",
              "      <td>43</td>\n",
              "      <td>3_irritable_irritated_feeling_and</td>\n",
              "      <td>[irritable, irritated, feeling, and, im, latel...</td>\n",
              "      <td>[im feeling slightly irritable today, im feeli...</td>\n",
              "    </tr>\n",
              "    <tr>\n",
              "      <th>5</th>\n",
              "      <td>4</td>\n",
              "      <td>41</td>\n",
              "      <td>4_jealous_envious_of_feeling</td>\n",
              "      <td>[jealous, envious, of, feeling, their, can, to...</td>\n",
              "      <td>[i feel jealous with them why they can, i can ...</td>\n",
              "    </tr>\n",
              "    <tr>\n",
              "      <th>6</th>\n",
              "      <td>5</td>\n",
              "      <td>41</td>\n",
              "      <td>5_rude_me_that_its</td>\n",
              "      <td>[rude, me, that, its, hostile, to, people, lik...</td>\n",
              "      <td>[i feel that they are just saying these things...</td>\n",
              "    </tr>\n",
              "    <tr>\n",
              "      <th>7</th>\n",
              "      <td>6</td>\n",
              "      <td>39</td>\n",
              "      <td>6_distracted_need_to_get</td>\n",
              "      <td>[distracted, need, to, get, like, waiting, day...</td>\n",
              "      <td>[i know there are days in which you feel distr...</td>\n",
              "    </tr>\n",
              "    <tr>\n",
              "      <th>8</th>\n",
              "      <td>7</td>\n",
              "      <td>39</td>\n",
              "      <td>7_hated_hateful_feel_despised</td>\n",
              "      <td>[hated, hateful, feel, despised, like, that, a...</td>\n",
              "      <td>[i feel hated by my parents, i hated that i hu...</td>\n",
              "    </tr>\n",
              "    <tr>\n",
              "      <th>9</th>\n",
              "      <td>8</td>\n",
              "      <td>35</td>\n",
              "      <td>8_selfish_for_feel_being</td>\n",
              "      <td>[selfish, for, feel, being, myself, in, alone,...</td>\n",
              "      <td>[i feel selfish but i think it s about time i ...</td>\n",
              "    </tr>\n",
              "    <tr>\n",
              "      <th>10</th>\n",
              "      <td>9</td>\n",
              "      <td>34</td>\n",
              "      <td>9_cold_the_air_winter</td>\n",
              "      <td>[cold, the, air, winter, weather, feeling, for...</td>\n",
              "      <td>[i love the feeling of running in the cold whe...</td>\n",
              "    </tr>\n",
              "    <tr>\n",
              "      <th>11</th>\n",
              "      <td>10</td>\n",
              "      <td>34</td>\n",
              "      <td>10_her_she_that_every</td>\n",
              "      <td>[her, she, that, every, were, kept, and, bitch...</td>\n",
              "      <td>[i got the feeling she hated that that i would...</td>\n",
              "    </tr>\n",
              "    <tr>\n",
              "      <th>12</th>\n",
              "      <td>11</td>\n",
              "      <td>33</td>\n",
              "      <td>11_he_him_we_that</td>\n",
              "      <td>[he, him, we, that, giving, how, and, at, fix,...</td>\n",
              "      <td>[im not sure how i feel about him yet he seeme...</td>\n",
              "    </tr>\n",
              "    <tr>\n",
              "      <th>13</th>\n",
              "      <td>12</td>\n",
              "      <td>33</td>\n",
              "      <td>12_rebellious_music_listening_feeling</td>\n",
              "      <td>[rebellious, music, listening, feeling, listen...</td>\n",
              "      <td>[i listen to it i feel all rebellious, i guess...</td>\n",
              "    </tr>\n",
              "    <tr>\n",
              "      <th>14</th>\n",
              "      <td>13</td>\n",
              "      <td>32</td>\n",
              "      <td>13_agitated_getting_feel_concentrate</td>\n",
              "      <td>[agitated, getting, feel, concentrate, start, ...</td>\n",
              "      <td>[i start to feel agitated, i still feel so agi...</td>\n",
              "    </tr>\n",
              "    <tr>\n",
              "      <th>15</th>\n",
              "      <td>14</td>\n",
              "      <td>31</td>\n",
              "      <td>14_cranky_feeling_sleep_im</td>\n",
              "      <td>[cranky, feeling, sleep, im, morning, nap, am,...</td>\n",
              "      <td>[i feel so cranky right now, im feeling a bit ...</td>\n",
              "    </tr>\n",
              "    <tr>\n",
              "      <th>16</th>\n",
              "      <td>15</td>\n",
              "      <td>28</td>\n",
              "      <td>15_bitter_birthday_was_but</td>\n",
              "      <td>[bitter, birthday, was, but, last, feeling, da...</td>\n",
              "      <td>[im feeling bitter towards them god, im feelin...</td>\n",
              "    </tr>\n",
              "    <tr>\n",
              "      <th>17</th>\n",
              "      <td>16</td>\n",
              "      <td>28</td>\n",
              "      <td>16_greedy_feel_but_happy</td>\n",
              "      <td>[greedy, feel, but, happy, hope, you, gna, too...</td>\n",
              "      <td>[i hope i did not make you feel greedy o shit ...</td>\n",
              "    </tr>\n",
              "    <tr>\n",
              "      <th>18</th>\n",
              "      <td>17</td>\n",
              "      <td>26</td>\n",
              "      <td>17_dangerous_is_gotta_vibe</td>\n",
              "      <td>[dangerous, is, gotta, vibe, pretty, feelings,...</td>\n",
              "      <td>[i feel that the classroom is extremely danger...</td>\n",
              "    </tr>\n",
              "    <tr>\n",
              "      <th>19</th>\n",
              "      <td>18</td>\n",
              "      <td>25</td>\n",
              "      <td>18_fucked_up_feel_everything</td>\n",
              "      <td>[fucked, up, feel, everything, so, need, like,...</td>\n",
              "      <td>[i feel so fucked up these days, i feel really...</td>\n",
              "    </tr>\n",
              "    <tr>\n",
              "      <th>20</th>\n",
              "      <td>19</td>\n",
              "      <td>25</td>\n",
              "      <td>19_tortured_the_torture_your</td>\n",
              "      <td>[tortured, the, torture, your, for, feel, lips...</td>\n",
              "      <td>[i say that i feel like im being tortured by h...</td>\n",
              "    </tr>\n",
              "    <tr>\n",
              "      <th>21</th>\n",
              "      <td>20</td>\n",
              "      <td>24</td>\n",
              "      <td>20_impatient_am_truly_im</td>\n",
              "      <td>[impatient, am, truly, im, will, feeling, to, ...</td>\n",
              "      <td>[i feel truly impatient that this is taking so...</td>\n",
              "    </tr>\n",
              "    <tr>\n",
              "      <th>22</th>\n",
              "      <td>21</td>\n",
              "      <td>23</td>\n",
              "      <td>21_stressed_all_feeling_breathe</td>\n",
              "      <td>[stressed, all, feeling, breathe, when, or, on...</td>\n",
              "      <td>[im feeling stressed about this more than i sh...</td>\n",
              "    </tr>\n",
              "    <tr>\n",
              "      <th>23</th>\n",
              "      <td>22</td>\n",
              "      <td>23</td>\n",
              "      <td>22_violent_animals_punch_feel</td>\n",
              "      <td>[violent, animals, punch, feel, of, pain, the,...</td>\n",
              "      <td>[i just feel really violent right now, i feel ...</td>\n",
              "    </tr>\n",
              "    <tr>\n",
              "      <th>24</th>\n",
              "      <td>23</td>\n",
              "      <td>22</td>\n",
              "      <td>23_rushed_like_we_this</td>\n",
              "      <td>[rushed, like, we, this, will, prize, final, m...</td>\n",
              "      <td>[i feel that rushed prize giving really dilute...</td>\n",
              "    </tr>\n",
              "    <tr>\n",
              "      <th>25</th>\n",
              "      <td>24</td>\n",
              "      <td>21</td>\n",
              "      <td>24_grouchy_grumpy_feeling_past</td>\n",
              "      <td>[grouchy, grumpy, feeling, past, bit, few, tod...</td>\n",
              "      <td>[i was feeling grouchy and all, im feeling a b...</td>\n",
              "    </tr>\n",
              "    <tr>\n",
              "      <th>26</th>\n",
              "      <td>25</td>\n",
              "      <td>20</td>\n",
              "      <td>25_disgusted_smell_old_similar</td>\n",
              "      <td>[disgusted, smell, old, similar, pictures, mys...</td>\n",
              "      <td>[i feel disgusted in any man in power who talk...</td>\n",
              "    </tr>\n",
              "    <tr>\n",
              "      <th>27</th>\n",
              "      <td>26</td>\n",
              "      <td>19</td>\n",
              "      <td>26_stubborn_back_being_too</td>\n",
              "      <td>[stubborn, back, being, too, extra, feel, goin...</td>\n",
              "      <td>[i have the feeling that im going to be stubbo...</td>\n",
              "    </tr>\n",
              "    <tr>\n",
              "      <th>28</th>\n",
              "      <td>27</td>\n",
              "      <td>17</td>\n",
              "      <td>27_frustrated_class_advanced_studying</td>\n",
              "      <td>[frustrated, class, advanced, studying, an, an...</td>\n",
              "      <td>[i don t really believe because i walked throu...</td>\n",
              "    </tr>\n",
              "    <tr>\n",
              "      <th>29</th>\n",
              "      <td>28</td>\n",
              "      <td>17</td>\n",
              "      <td>28_bitchy_as_emo_tonight</td>\n",
              "      <td>[bitchy, as, emo, tonight, mean, done, kind, l...</td>\n",
              "      <td>[i feel times less bitchy, im feeling bitchy a...</td>\n",
              "    </tr>\n",
              "    <tr>\n",
              "      <th>30</th>\n",
              "      <td>29</td>\n",
              "      <td>16</td>\n",
              "      <td>29_book_movie_read_in</td>\n",
              "      <td>[book, movie, read, in, the, that, chapters, b...</td>\n",
              "      <td>[i refuse to rate the book but if she and her ...</td>\n",
              "    </tr>\n",
              "    <tr>\n",
              "      <th>31</th>\n",
              "      <td>30</td>\n",
              "      <td>16</td>\n",
              "      <td>30_petty_things_thoughts_reacting</td>\n",
              "      <td>[petty, things, thoughts, reacting, kind, this...</td>\n",
              "      <td>[i feel petty things but not to the extent tha...</td>\n",
              "    </tr>\n",
              "    <tr>\n",
              "      <th>32</th>\n",
              "      <td>31</td>\n",
              "      <td>15</td>\n",
              "      <td>31_bothered_by_be_word</td>\n",
              "      <td>[bothered, by, be, word, miss, this, you, anym...</td>\n",
              "      <td>[i miss yall miss your comments and feedback a...</td>\n",
              "    </tr>\n",
              "    <tr>\n",
              "      <th>33</th>\n",
              "      <td>32</td>\n",
              "      <td>15</td>\n",
              "      <td>32_wronged_my_others_are</td>\n",
              "      <td>[wronged, my, others, are, or, and, have, that...</td>\n",
              "      <td>[i feel someone has been wronged when i feel i...</td>\n",
              "    </tr>\n",
              "    <tr>\n",
              "      <th>34</th>\n",
              "      <td>33</td>\n",
              "      <td>13</td>\n",
              "      <td>33_outraged_morally_whether_furious</td>\n",
              "      <td>[outraged, morally, whether, furious, by, the,...</td>\n",
              "      <td>[i feel equally morally outraged regardless of...</td>\n",
              "    </tr>\n",
              "    <tr>\n",
              "      <th>35</th>\n",
              "      <td>34</td>\n",
              "      <td>13</td>\n",
              "      <td>34_annoyed_was_extremely_yes</td>\n",
              "      <td>[annoyed, was, extremely, yes, while, feeling,...</td>\n",
              "      <td>[i was feeling a bit annoyed but it didnt real...</td>\n",
              "    </tr>\n",
              "    <tr>\n",
              "      <th>36</th>\n",
              "      <td>35</td>\n",
              "      <td>11</td>\n",
              "      <td>35_heartless_change_love_heart</td>\n",
              "      <td>[heartless, change, love, heart, lot, give, hu...</td>\n",
              "      <td>[i feel not heartless because my heart hurts s...</td>\n",
              "    </tr>\n",
              "    <tr>\n",
              "      <th>37</th>\n",
              "      <td>36</td>\n",
              "      <td>10</td>\n",
              "      <td>36_dream_friend_when_ocean</td>\n",
              "      <td>[dream, friend, when, ocean, infuriated, your,...</td>\n",
              "      <td>[i would watch him and feel frustrated he didn...</td>\n",
              "    </tr>\n",
              "  </tbody>\n",
              "</table>\n",
              "</div>\n",
              "    <div class=\"colab-df-buttons\">\n",
              "\n",
              "  <div class=\"colab-df-container\">\n",
              "    <button class=\"colab-df-convert\" onclick=\"convertToInteractive('df-615a061a-e0a4-4e3a-8bf7-b3696687c596')\"\n",
              "            title=\"Convert this dataframe to an interactive table.\"\n",
              "            style=\"display:none;\">\n",
              "\n",
              "  <svg xmlns=\"http://www.w3.org/2000/svg\" height=\"24px\" viewBox=\"0 -960 960 960\">\n",
              "    <path d=\"M120-120v-720h720v720H120Zm60-500h600v-160H180v160Zm220 220h160v-160H400v160Zm0 220h160v-160H400v160ZM180-400h160v-160H180v160Zm440 0h160v-160H620v160ZM180-180h160v-160H180v160Zm440 0h160v-160H620v160Z\"/>\n",
              "  </svg>\n",
              "    </button>\n",
              "\n",
              "  <style>\n",
              "    .colab-df-container {\n",
              "      display:flex;\n",
              "      gap: 12px;\n",
              "    }\n",
              "\n",
              "    .colab-df-convert {\n",
              "      background-color: #E8F0FE;\n",
              "      border: none;\n",
              "      border-radius: 50%;\n",
              "      cursor: pointer;\n",
              "      display: none;\n",
              "      fill: #1967D2;\n",
              "      height: 32px;\n",
              "      padding: 0 0 0 0;\n",
              "      width: 32px;\n",
              "    }\n",
              "\n",
              "    .colab-df-convert:hover {\n",
              "      background-color: #E2EBFA;\n",
              "      box-shadow: 0px 1px 2px rgba(60, 64, 67, 0.3), 0px 1px 3px 1px rgba(60, 64, 67, 0.15);\n",
              "      fill: #174EA6;\n",
              "    }\n",
              "\n",
              "    .colab-df-buttons div {\n",
              "      margin-bottom: 4px;\n",
              "    }\n",
              "\n",
              "    [theme=dark] .colab-df-convert {\n",
              "      background-color: #3B4455;\n",
              "      fill: #D2E3FC;\n",
              "    }\n",
              "\n",
              "    [theme=dark] .colab-df-convert:hover {\n",
              "      background-color: #434B5C;\n",
              "      box-shadow: 0px 1px 3px 1px rgba(0, 0, 0, 0.15);\n",
              "      filter: drop-shadow(0px 1px 2px rgba(0, 0, 0, 0.3));\n",
              "      fill: #FFFFFF;\n",
              "    }\n",
              "  </style>\n",
              "\n",
              "    <script>\n",
              "      const buttonEl =\n",
              "        document.querySelector('#df-615a061a-e0a4-4e3a-8bf7-b3696687c596 button.colab-df-convert');\n",
              "      buttonEl.style.display =\n",
              "        google.colab.kernel.accessAllowed ? 'block' : 'none';\n",
              "\n",
              "      async function convertToInteractive(key) {\n",
              "        const element = document.querySelector('#df-615a061a-e0a4-4e3a-8bf7-b3696687c596');\n",
              "        const dataTable =\n",
              "          await google.colab.kernel.invokeFunction('convertToInteractive',\n",
              "                                                    [key], {});\n",
              "        if (!dataTable) return;\n",
              "\n",
              "        const docLinkHtml = 'Like what you see? Visit the ' +\n",
              "          '<a target=\"_blank\" href=https://colab.research.google.com/notebooks/data_table.ipynb>data table notebook</a>'\n",
              "          + ' to learn more about interactive tables.';\n",
              "        element.innerHTML = '';\n",
              "        dataTable['output_type'] = 'display_data';\n",
              "        await google.colab.output.renderOutput(dataTable, element);\n",
              "        const docLink = document.createElement('div');\n",
              "        docLink.innerHTML = docLinkHtml;\n",
              "        element.appendChild(docLink);\n",
              "      }\n",
              "    </script>\n",
              "  </div>\n",
              "\n",
              "\n",
              "    <div id=\"df-4dd0de85-c186-4cca-b755-873094ddfddb\">\n",
              "      <button class=\"colab-df-quickchart\" onclick=\"quickchart('df-4dd0de85-c186-4cca-b755-873094ddfddb')\"\n",
              "                title=\"Suggest charts\"\n",
              "                style=\"display:none;\">\n",
              "\n",
              "<svg xmlns=\"http://www.w3.org/2000/svg\" height=\"24px\"viewBox=\"0 0 24 24\"\n",
              "     width=\"24px\">\n",
              "    <g>\n",
              "        <path d=\"M19 3H5c-1.1 0-2 .9-2 2v14c0 1.1.9 2 2 2h14c1.1 0 2-.9 2-2V5c0-1.1-.9-2-2-2zM9 17H7v-7h2v7zm4 0h-2V7h2v10zm4 0h-2v-4h2v4z\"/>\n",
              "    </g>\n",
              "</svg>\n",
              "      </button>\n",
              "\n",
              "<style>\n",
              "  .colab-df-quickchart {\n",
              "      --bg-color: #E8F0FE;\n",
              "      --fill-color: #1967D2;\n",
              "      --hover-bg-color: #E2EBFA;\n",
              "      --hover-fill-color: #174EA6;\n",
              "      --disabled-fill-color: #AAA;\n",
              "      --disabled-bg-color: #DDD;\n",
              "  }\n",
              "\n",
              "  [theme=dark] .colab-df-quickchart {\n",
              "      --bg-color: #3B4455;\n",
              "      --fill-color: #D2E3FC;\n",
              "      --hover-bg-color: #434B5C;\n",
              "      --hover-fill-color: #FFFFFF;\n",
              "      --disabled-bg-color: #3B4455;\n",
              "      --disabled-fill-color: #666;\n",
              "  }\n",
              "\n",
              "  .colab-df-quickchart {\n",
              "    background-color: var(--bg-color);\n",
              "    border: none;\n",
              "    border-radius: 50%;\n",
              "    cursor: pointer;\n",
              "    display: none;\n",
              "    fill: var(--fill-color);\n",
              "    height: 32px;\n",
              "    padding: 0;\n",
              "    width: 32px;\n",
              "  }\n",
              "\n",
              "  .colab-df-quickchart:hover {\n",
              "    background-color: var(--hover-bg-color);\n",
              "    box-shadow: 0 1px 2px rgba(60, 64, 67, 0.3), 0 1px 3px 1px rgba(60, 64, 67, 0.15);\n",
              "    fill: var(--button-hover-fill-color);\n",
              "  }\n",
              "\n",
              "  .colab-df-quickchart-complete:disabled,\n",
              "  .colab-df-quickchart-complete:disabled:hover {\n",
              "    background-color: var(--disabled-bg-color);\n",
              "    fill: var(--disabled-fill-color);\n",
              "    box-shadow: none;\n",
              "  }\n",
              "\n",
              "  .colab-df-spinner {\n",
              "    border: 2px solid var(--fill-color);\n",
              "    border-color: transparent;\n",
              "    border-bottom-color: var(--fill-color);\n",
              "    animation:\n",
              "      spin 1s steps(1) infinite;\n",
              "  }\n",
              "\n",
              "  @keyframes spin {\n",
              "    0% {\n",
              "      border-color: transparent;\n",
              "      border-bottom-color: var(--fill-color);\n",
              "      border-left-color: var(--fill-color);\n",
              "    }\n",
              "    20% {\n",
              "      border-color: transparent;\n",
              "      border-left-color: var(--fill-color);\n",
              "      border-top-color: var(--fill-color);\n",
              "    }\n",
              "    30% {\n",
              "      border-color: transparent;\n",
              "      border-left-color: var(--fill-color);\n",
              "      border-top-color: var(--fill-color);\n",
              "      border-right-color: var(--fill-color);\n",
              "    }\n",
              "    40% {\n",
              "      border-color: transparent;\n",
              "      border-right-color: var(--fill-color);\n",
              "      border-top-color: var(--fill-color);\n",
              "    }\n",
              "    60% {\n",
              "      border-color: transparent;\n",
              "      border-right-color: var(--fill-color);\n",
              "    }\n",
              "    80% {\n",
              "      border-color: transparent;\n",
              "      border-right-color: var(--fill-color);\n",
              "      border-bottom-color: var(--fill-color);\n",
              "    }\n",
              "    90% {\n",
              "      border-color: transparent;\n",
              "      border-bottom-color: var(--fill-color);\n",
              "    }\n",
              "  }\n",
              "</style>\n",
              "\n",
              "      <script>\n",
              "        async function quickchart(key) {\n",
              "          const quickchartButtonEl =\n",
              "            document.querySelector('#' + key + ' button');\n",
              "          quickchartButtonEl.disabled = true;  // To prevent multiple clicks.\n",
              "          quickchartButtonEl.classList.add('colab-df-spinner');\n",
              "          try {\n",
              "            const charts = await google.colab.kernel.invokeFunction(\n",
              "                'suggestCharts', [key], {});\n",
              "          } catch (error) {\n",
              "            console.error('Error during call to suggestCharts:', error);\n",
              "          }\n",
              "          quickchartButtonEl.classList.remove('colab-df-spinner');\n",
              "          quickchartButtonEl.classList.add('colab-df-quickchart-complete');\n",
              "        }\n",
              "        (() => {\n",
              "          let quickchartButtonEl =\n",
              "            document.querySelector('#df-4dd0de85-c186-4cca-b755-873094ddfddb button');\n",
              "          quickchartButtonEl.style.display =\n",
              "            google.colab.kernel.accessAllowed ? 'block' : 'none';\n",
              "        })();\n",
              "      </script>\n",
              "    </div>\n",
              "\n",
              "    </div>\n",
              "  </div>\n"
            ],
            "application/vnd.google.colaboratory.intrinsic+json": {
              "type": "dataframe",
              "summary": "{\n  \"name\": \"topic_model\",\n  \"rows\": 38,\n  \"fields\": [\n    {\n      \"column\": \"Topic\",\n      \"properties\": {\n        \"dtype\": \"number\",\n        \"std\": 11,\n        \"min\": -1,\n        \"max\": 36,\n        \"num_unique_values\": 38,\n        \"samples\": [\n          32,\n          35,\n          3\n        ],\n        \"semantic_type\": \"\",\n        \"description\": \"\"\n      }\n    },\n    {\n      \"column\": \"Count\",\n      \"properties\": {\n        \"dtype\": \"number\",\n        \"std\": 51,\n        \"min\": 10,\n        \"max\": 334,\n        \"num_unique_values\": 27,\n        \"samples\": [\n          34,\n          26,\n          33\n        ],\n        \"semantic_type\": \"\",\n        \"description\": \"\"\n      }\n    },\n    {\n      \"column\": \"Name\",\n      \"properties\": {\n        \"dtype\": \"string\",\n        \"num_unique_values\": 38,\n        \"samples\": [\n          \"32_wronged_my_others_are\",\n          \"35_heartless_change_love_heart\",\n          \"3_irritable_irritated_feeling_and\"\n        ],\n        \"semantic_type\": \"\",\n        \"description\": \"\"\n      }\n    },\n    {\n      \"column\": \"Representation\",\n      \"properties\": {\n        \"dtype\": \"object\",\n        \"semantic_type\": \"\",\n        \"description\": \"\"\n      }\n    },\n    {\n      \"column\": \"Representative_Docs\",\n      \"properties\": {\n        \"dtype\": \"object\",\n        \"semantic_type\": \"\",\n        \"description\": \"\"\n      }\n    }\n  ]\n}"
            }
          },
          "metadata": {},
          "execution_count": 21
        }
      ]
    },
    {
      "cell_type": "markdown",
      "source": [
        "What if we have more than 6 emotions?"
      ],
      "metadata": {
        "id": "T1esU-o2ogUG"
      },
      "id": "T1esU-o2ogUG"
    },
    {
      "cell_type": "code",
      "source": [
        "from bertopic import BERTopic\n",
        "\n",
        "topic_model = BERTopic()\n",
        "topics, probs = topic_model.fit_transform(df['text'])"
      ],
      "metadata": {
        "id": "AgIJPuSQof86"
      },
      "id": "AgIJPuSQof86",
      "execution_count": 22,
      "outputs": []
    },
    {
      "cell_type": "code",
      "source": [
        "topic_model.get_topic_info().to_csv(\"topic_emotions.csv\")"
      ],
      "metadata": {
        "id": "x7Z4g6Rbn5Rl"
      },
      "id": "x7Z4g6Rbn5Rl",
      "execution_count": 24,
      "outputs": []
    },
    {
      "cell_type": "code",
      "source": [],
      "metadata": {
        "id": "UshCnx8qorBi"
      },
      "id": "UshCnx8qorBi",
      "execution_count": null,
      "outputs": []
    }
  ],
  "metadata": {
    "accelerator": "GPU",
    "colab": {
      "gpuType": "T4",
      "provenance": []
    },
    "kaggle": {
      "accelerator": "none",
      "dataSources": [
        {
          "datasetId": 1363681,
          "sourceId": 2265312,
          "sourceType": "datasetVersion"
        }
      ],
      "dockerImageVersionId": 30646,
      "isGpuEnabled": false,
      "isInternetEnabled": false,
      "language": "python",
      "sourceType": "notebook"
    },
    "kernelspec": {
      "display_name": "tf",
      "language": "python",
      "name": "python3"
    },
    "language_info": {
      "codemirror_mode": {
        "name": "ipython",
        "version": 3
      },
      "file_extension": ".py",
      "mimetype": "text/x-python",
      "name": "python",
      "nbconvert_exporter": "python",
      "pygments_lexer": "ipython3",
      "version": "3.7.16"
    },
    "papermill": {
      "default_parameters": {},
      "duration": 17.599269,
      "end_time": "2024-02-27T09:53:49.395341",
      "environment_variables": {},
      "exception": null,
      "input_path": "__notebook__.ipynb",
      "output_path": "__notebook__.ipynb",
      "parameters": {},
      "start_time": "2024-02-27T09:53:31.796072",
      "version": "2.5.0"
    }
  },
  "nbformat": 4,
  "nbformat_minor": 5
}