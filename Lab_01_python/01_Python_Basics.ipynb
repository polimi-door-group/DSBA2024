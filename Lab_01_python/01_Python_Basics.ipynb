{
 "cells": [
  {
   "cell_type": "markdown",
   "metadata": {},
   "source": [
    "# Python basics"
   ]
  },
  {
   "cell_type": "markdown",
   "metadata": {},
   "source": [
    "## Datatypes"
   ]
  },
  {
   "cell_type": "markdown",
   "metadata": {},
   "source": [
    "- Numbers\n",
    "- Strings\n",
    "- Lists\n",
    "- Dictionaries\n",
    "- Tuples\n",
    "- Files\n",
    "- Sets\n",
    "- Other (booleans, types, None)\n",
    "- Program unit types (functions, modules, classes)"
   ]
  },
  {
   "cell_type": "markdown",
   "metadata": {},
   "source": [
    "# Indentation\n",
    "Indentation in Python is mandatory and it is required to define code blocks containing all statements that have to be executed within the same scope. Nesting statements implies an increase in indentation and the definition of a new block.\n",
    "\n",
    "Indentation can be done with either spaces or the tab key but sometimes they cannot be mixed together in the same file."
   ]
  },
  {
   "cell_type": "markdown",
   "metadata": {},
   "source": [
    "## A simple Python script"
   ]
  },
  {
   "cell_type": "markdown",
   "metadata": {},
   "source": [
    "sum the squares of n numbers: $f(n)=Σ_{i=1}^{n} i^{2}$\n",
    "\n",
    "$f(5)=?$"
   ]
  },
  {
   "cell_type": "code",
   "execution_count": 1,
   "metadata": {},
   "outputs": [],
   "source": [
    "# Sum the squares of n numbers \n",
    "#if n = 5 then the result is 1+4+9+16+25 = 55"
   ]
  },
  {
   "cell_type": "code",
   "execution_count": 2,
   "metadata": {},
   "outputs": [
    {
     "name": "stdout",
     "output_type": "stream",
     "text": [
      "30\n"
     ]
    }
   ],
   "source": [
    "sum_squares = 0\n",
    "\n",
    "for i in range(5):\n",
    "    s = i**2\n",
    "    sum_squares = sum_squares + s \n",
    "    \n",
    "print(sum_squares) # something went wrong...find the error!!!\n",
    "#?range"
   ]
  },
  {
   "cell_type": "code",
   "execution_count": 3,
   "metadata": {
    "scrolled": true
   },
   "outputs": [
    {
     "name": "stdout",
     "output_type": "stream",
     "text": [
      "0\n",
      "1\n",
      "2\n",
      "3\n",
      "4\n"
     ]
    }
   ],
   "source": [
    "for i in range(5):\n",
    "    print(i)"
   ]
  },
  {
   "cell_type": "code",
   "execution_count": 4,
   "metadata": {},
   "outputs": [
    {
     "name": "stdout",
     "output_type": "stream",
     "text": [
      "55\n"
     ]
    }
   ],
   "source": [
    "###SOLUTION###\n",
    "sum_squares = 0\n",
    "\n",
    "for i in range(6):\n",
    "    sum_squares += i**2\n",
    "    #sum_squares = sum_squares + i**2\n",
    "print(sum_squares)"
   ]
  },
  {
   "cell_type": "markdown",
   "metadata": {},
   "source": [
    "## 0-indexed"
   ]
  },
  {
   "cell_type": "code",
   "execution_count": 5,
   "metadata": {},
   "outputs": [
    {
     "data": {
      "text/plain": [
       "3"
      ]
     },
     "execution_count": 5,
     "metadata": {},
     "output_type": "execute_result"
    }
   ],
   "source": [
    "a = [1,2,3]\n",
    "a[2]"
   ]
  },
  {
   "cell_type": "markdown",
   "metadata": {},
   "source": [
    "## Dynamic Typing"
   ]
  },
  {
   "cell_type": "code",
   "execution_count": 6,
   "metadata": {},
   "outputs": [],
   "source": [
    "i=3\n",
    "s=\"ML\"\n",
    "f1=3.14\n",
    "f2=2.3e+6"
   ]
  },
  {
   "cell_type": "code",
   "execution_count": 7,
   "metadata": {},
   "outputs": [
    {
     "name": "stdout",
     "output_type": "stream",
     "text": [
      "<class 'int'> <class 'str'> <class 'float'> <class 'float'>\n"
     ]
    }
   ],
   "source": [
    "print(type(i), type(s), type(f1), type(f2))"
   ]
  },
  {
   "cell_type": "markdown",
   "metadata": {},
   "source": [
    "## Python Strings"
   ]
  },
  {
   "cell_type": "code",
   "execution_count": 8,
   "metadata": {},
   "outputs": [
    {
     "data": {
      "text/plain": [
       "'e'"
      ]
     },
     "execution_count": 8,
     "metadata": {},
     "output_type": "execute_result"
    }
   ],
   "source": [
    "s = \"hello world\"\n",
    "s[1]"
   ]
  },
  {
   "cell_type": "code",
   "execution_count": 9,
   "metadata": {},
   "outputs": [
    {
     "name": "stdout",
     "output_type": "stream",
     "text": [
      "hell\n"
     ]
    }
   ],
   "source": [
    "#you can manipulate a string as you manipulate a list...try the following...\n",
    "\n",
    "#Slicing\n",
    "#Elements from zero to 3 included\n",
    "\n",
    "print(s[0:4])\n",
    "#print(s[0:4:1]) step by default is 1"
   ]
  },
  {
   "cell_type": "code",
   "execution_count": 10,
   "metadata": {},
   "outputs": [
    {
     "name": "stdout",
     "output_type": "stream",
     "text": [
      "ell\n"
     ]
    }
   ],
   "source": [
    "#We can create them simply by enclosing characters in quotes.\n",
    "#STRINGS ARE IMMUTABLE -> s[0] = 'm' is not a valid assignment\n",
    "\n",
    "s = \"hello world\"\n",
    "\n",
    "#you can manipulate a string as you manipulate a list...try the following...\n",
    "\n",
    "#Slicing\n",
    "print(s[1:4])"
   ]
  },
  {
   "cell_type": "code",
   "execution_count": 11,
   "metadata": {},
   "outputs": [
    {
     "name": "stdout",
     "output_type": "stream",
     "text": [
      " world\n"
     ]
    }
   ],
   "source": [
    "#TRY yourself! Extract the last 5 chars:\n",
    "print(s[5:])"
   ]
  },
  {
   "cell_type": "code",
   "execution_count": 12,
   "metadata": {},
   "outputs": [
    {
     "name": "stdout",
     "output_type": "stream",
     "text": [
      "hell\n"
     ]
    }
   ],
   "source": [
    "#TRY yourself! Extract all chars except for the first and the last ones\n",
    "print(s[:4])"
   ]
  },
  {
   "cell_type": "code",
   "execution_count": 13,
   "metadata": {},
   "outputs": [
    {
     "name": "stdout",
     "output_type": "stream",
     "text": [
      "el ol\n"
     ]
    }
   ],
   "source": [
    "#take a char every two (and starting from the second char) [START:END:STEP]\n",
    "s1=s[1::2]\n",
    "#print(s)\n",
    "print(s1)"
   ]
  },
  {
   "cell_type": "code",
   "execution_count": 14,
   "metadata": {},
   "outputs": [
    {
     "name": "stdout",
     "output_type": "stream",
     "text": [
      "hello worldhello world\n",
      "hello worldhello worldhello world\n",
      "hello worldhello worldhello world\n"
     ]
    },
    {
     "data": {
      "text/plain": [
       "['__add__',\n",
       " '__class__',\n",
       " '__contains__',\n",
       " '__delattr__',\n",
       " '__dir__',\n",
       " '__doc__',\n",
       " '__eq__',\n",
       " '__format__',\n",
       " '__ge__',\n",
       " '__getattribute__',\n",
       " '__getitem__',\n",
       " '__getnewargs__',\n",
       " '__gt__',\n",
       " '__hash__',\n",
       " '__init__',\n",
       " '__init_subclass__',\n",
       " '__iter__',\n",
       " '__le__',\n",
       " '__len__',\n",
       " '__lt__',\n",
       " '__mod__',\n",
       " '__mul__',\n",
       " '__ne__',\n",
       " '__new__',\n",
       " '__reduce__',\n",
       " '__reduce_ex__',\n",
       " '__repr__',\n",
       " '__rmod__',\n",
       " '__rmul__',\n",
       " '__setattr__',\n",
       " '__sizeof__',\n",
       " '__str__',\n",
       " '__subclasshook__',\n",
       " 'capitalize',\n",
       " 'casefold',\n",
       " 'center',\n",
       " 'count',\n",
       " 'encode',\n",
       " 'endswith',\n",
       " 'expandtabs',\n",
       " 'find',\n",
       " 'format',\n",
       " 'format_map',\n",
       " 'index',\n",
       " 'isalnum',\n",
       " 'isalpha',\n",
       " 'isascii',\n",
       " 'isdecimal',\n",
       " 'isdigit',\n",
       " 'isidentifier',\n",
       " 'islower',\n",
       " 'isnumeric',\n",
       " 'isprintable',\n",
       " 'isspace',\n",
       " 'istitle',\n",
       " 'isupper',\n",
       " 'join',\n",
       " 'ljust',\n",
       " 'lower',\n",
       " 'lstrip',\n",
       " 'maketrans',\n",
       " 'partition',\n",
       " 'removeprefix',\n",
       " 'removesuffix',\n",
       " 'replace',\n",
       " 'rfind',\n",
       " 'rindex',\n",
       " 'rjust',\n",
       " 'rpartition',\n",
       " 'rsplit',\n",
       " 'rstrip',\n",
       " 'split',\n",
       " 'splitlines',\n",
       " 'startswith',\n",
       " 'strip',\n",
       " 'swapcase',\n",
       " 'title',\n",
       " 'translate',\n",
       " 'upper',\n",
       " 'zfill']"
      ]
     },
     "execution_count": 14,
     "metadata": {},
     "output_type": "execute_result"
    }
   ],
   "source": [
    "# Concatanation strings\n",
    "print(s+s)\n",
    "\n",
    "#TRY yourself! what if you want to create a string containing the words \"machine learning\"\n",
    "\n",
    "#TRY yourself!print a string \n",
    "\n",
    "#TRY yourself!use the operator + \n",
    "\n",
    "#TRY yourself! duplicate a string by using *\n",
    "print(s*3)\n",
    "print(s+s+s)\n",
    "#TRY IT! shows up all the BUILT-IN METHODS \n",
    "dir(s)"
   ]
  },
  {
   "cell_type": "code",
   "execution_count": 15,
   "metadata": {},
   "outputs": [
    {
     "name": "stdout",
     "output_type": "stream",
     "text": [
      "['__add__', '__class__', '__contains__', '__delattr__', '__dir__', '__doc__', '__eq__', '__format__', '__ge__', '__getattribute__', '__getitem__', '__getnewargs__', '__gt__', '__hash__', '__init__', '__init_subclass__', '__iter__', '__le__', '__len__', '__lt__', '__mod__', '__mul__', '__ne__', '__new__', '__reduce__', '__reduce_ex__', '__repr__', '__rmod__', '__rmul__', '__setattr__', '__sizeof__', '__str__', '__subclasshook__', 'capitalize', 'casefold', 'center', 'count', 'encode', 'endswith', 'expandtabs', 'find', 'format', 'format_map', 'index', 'isalnum', 'isalpha', 'isascii', 'isdecimal', 'isdigit', 'isidentifier', 'islower', 'isnumeric', 'isprintable', 'isspace', 'istitle', 'isupper', 'join', 'ljust', 'lower', 'lstrip', 'maketrans', 'partition', 'removeprefix', 'removesuffix', 'replace', 'rfind', 'rindex', 'rjust', 'rpartition', 'rsplit', 'rstrip', 'split', 'splitlines', 'startswith', 'strip', 'swapcase', 'title', 'translate', 'upper', 'zfill']\n"
     ]
    }
   ],
   "source": [
    "#try the following methods:\n",
    "#1) strip remove spaces\n",
    "#2) split s.split(\" \")\n",
    "#3) join \"/\".join([\"12\",\"10\",\"1980\"])\n",
    "\n",
    "#s.split()\n",
    "\n",
    "#Try to transform a string into a list \n",
    "y = list(s)\n",
    "y\n",
    "#use the function len() to find out the lenght of a string or a list\n",
    "len(s)\n",
    "\n",
    "# attribute and methods OOP\n",
    "print(dir(s)) "
   ]
  },
  {
   "cell_type": "code",
   "execution_count": 16,
   "metadata": {},
   "outputs": [
    {
     "name": "stdout",
     "output_type": "stream",
     "text": [
      "This is our lesson 1 on Machine Learning\n",
      "Number pi can be approximated by 3.142\n"
     ]
    }
   ],
   "source": [
    "# Formatted print\n",
    "'''\n",
    "d \tSigned integer decimal.\n",
    "i \tSigned integer decimal.\n",
    "e \tFloating point exponential format (lowercase).\n",
    "E \tFloating point exponential format (uppercase).\n",
    "f \tFloating point decimal format.\n",
    "F \tFloating point decimal format.\n",
    "g \tSame as \"e\" if exponent is greater than -4 or less than precision, \"f\" otherwise.\n",
    "c \tSingle character (accepts integer or single character string).\n",
    "r \tString (converts any python object using repr()).\n",
    "s \tString (converts any python object using str()).\n",
    "'''\n",
    "\n",
    "print('This is our lesson %d on %s' % (1, \"Machine Learning\"))  #tuples\n",
    "\n",
    "print('Number %s can be approximated by %.3f' % (\"pi\",3.141592653589793))\n"
   ]
  },
  {
   "cell_type": "markdown",
   "metadata": {},
   "source": [
    "## Python Lists"
   ]
  },
  {
   "cell_type": "code",
   "execution_count": 17,
   "metadata": {},
   "outputs": [],
   "source": [
    "'''\n",
    "A list is a collection of values and it can contain any data type\n",
    "Lists are mutable\n",
    "'''\n",
    "\n",
    "# How to build a list and reference it with a variable \n",
    "mylist = [2,5,1,9,\"learning\",0,\"machine\"] # heterogeneous context"
   ]
  },
  {
   "cell_type": "code",
   "execution_count": 18,
   "metadata": {},
   "outputs": [
    {
     "data": {
      "text/plain": [
       "2"
      ]
     },
     "execution_count": 18,
     "metadata": {},
     "output_type": "execute_result"
    }
   ],
   "source": [
    "mylist[0]"
   ]
  },
  {
   "cell_type": "code",
   "execution_count": 19,
   "metadata": {},
   "outputs": [
    {
     "data": {
      "text/plain": [
       "[2, 5, 1, 9]"
      ]
     },
     "execution_count": 19,
     "metadata": {},
     "output_type": "execute_result"
    }
   ],
   "source": [
    "mylist[0:4]"
   ]
  },
  {
   "cell_type": "code",
   "execution_count": 20,
   "metadata": {},
   "outputs": [
    {
     "name": "stdout",
     "output_type": "stream",
     "text": [
      "[1, 2]\n",
      "1\n"
     ]
    }
   ],
   "source": [
    "number = 2.4 #a list can contain any data type\n",
    "\n",
    "# How to build a list of lists\n",
    "alistoflists = [[1,2],\n",
    "                [True,False],\n",
    "                [\"hello\", number]]\n",
    "\n",
    "print(alistoflists[0])\n",
    "print(alistoflists[0][0])\n",
    "# Empty list?"
   ]
  },
  {
   "cell_type": "code",
   "execution_count": 21,
   "metadata": {},
   "outputs": [
    {
     "name": "stdout",
     "output_type": "stream",
     "text": [
      "mylist is:  [2, 5, 1, 9, 'learning', 0, 'machine']\n",
      "[[1, 2], [True, False], ['hello', 2.4]]\n"
     ]
    }
   ],
   "source": [
    "#print a list\n",
    "print(\"mylist is: \", mylist)\n",
    "print(alistoflists)"
   ]
  },
  {
   "cell_type": "code",
   "execution_count": 22,
   "metadata": {},
   "outputs": [
    {
     "data": {
      "text/plain": [
       "list"
      ]
     },
     "execution_count": 22,
     "metadata": {},
     "output_type": "execute_result"
    }
   ],
   "source": [
    "#check list type\n",
    "type(mylist)"
   ]
  },
  {
   "cell_type": "code",
   "execution_count": 23,
   "metadata": {},
   "outputs": [
    {
     "data": {
      "text/plain": [
       "'machine'"
      ]
     },
     "execution_count": 23,
     "metadata": {},
     "output_type": "execute_result"
    }
   ],
   "source": [
    "'''\n",
    "Subsetting lists: indexing and slicing\n",
    "'''\n",
    "#  ***LIST INDEXING***\n",
    "# select an element - zero-based indexed\n",
    "mylist = [2,5,1,9,\"learning\",0,\"machine\"] \n",
    "\n",
    "mylist[-1]\n",
    "\n",
    "# Try it! what if out of range\n",
    "#print(mylist[-1])\n",
    "\n"
   ]
  },
  {
   "cell_type": "code",
   "execution_count": 24,
   "metadata": {},
   "outputs": [
    {
     "data": {
      "text/plain": [
       "[1, 9]"
      ]
     },
     "execution_count": 24,
     "metadata": {},
     "output_type": "execute_result"
    }
   ],
   "source": [
    "mylist[-5:-3] \n",
    "\n",
    "# you can go backwards\n",
    "# mylist[-3] # return the exact same result that mylist[4]"
   ]
  },
  {
   "cell_type": "markdown",
   "metadata": {},
   "source": [
    "![index](list_index.png)"
   ]
  },
  {
   "cell_type": "code",
   "execution_count": 25,
   "metadata": {},
   "outputs": [
    {
     "name": "stdout",
     "output_type": "stream",
     "text": [
      "[1, 9]\n",
      "[2, 5]\n",
      "[9, 'learning', 0, 'machine']\n"
     ]
    },
    {
     "data": {
      "text/plain": [
       "[2, 5, 1, 9, 'learning', 0, 'machine']"
      ]
     },
     "execution_count": 25,
     "metadata": {},
     "output_type": "execute_result"
    }
   ],
   "source": [
    "# ***LIST SLICING***\n",
    "mylist = [2,5,1,9,\"learning\",0,\"machine\"]\n",
    "#syntax [start:end] \n",
    "#start is included (the index before the colon) and end is excluded\n",
    "print(mylist[2:4])\n",
    "\n",
    "#with this in mind...can you guess what the following return?\n",
    "#mylist[1:2] \n",
    "print(mylist[:2]) #what if you leave out the start index\n",
    "print(mylist[3:]) #or end index?\n",
    "\n",
    "#subsetting lists of lists: to subset lists of lists, you can use the same technique as before\n",
    "#print(alistoflists[0][1]) \n",
    "\n",
    "mylist[:]"
   ]
  },
  {
   "cell_type": "code",
   "execution_count": 26,
   "metadata": {},
   "outputs": [
    {
     "name": "stdout",
     "output_type": "stream",
     "text": [
      "[2, 5, 1, 9, 'learning', 0, 'machine']\n"
     ]
    }
   ],
   "source": [
    "mylist = [2,5,1,9,\"learning\",0,\"machine\"]\n",
    "print(mylist)"
   ]
  },
  {
   "cell_type": "code",
   "execution_count": 27,
   "metadata": {},
   "outputs": [
    {
     "data": {
      "text/plain": [
       "[2,\n",
       " 5,\n",
       " 1,\n",
       " 9,\n",
       " 'learning',\n",
       " 0,\n",
       " 'machine',\n",
       " 2,\n",
       " 5,\n",
       " 1,\n",
       " 9,\n",
       " 'learning',\n",
       " 0,\n",
       " 'machine',\n",
       " 2,\n",
       " 5,\n",
       " 1,\n",
       " 9,\n",
       " 'learning',\n",
       " 0,\n",
       " 'machine']"
      ]
     },
     "execution_count": 27,
     "metadata": {},
     "output_type": "execute_result"
    }
   ],
   "source": [
    "mylist = [2,5,1,9,\"learning\",0,\"machine\"]\n",
    "mylist+mylist\n",
    "mylist*3"
   ]
  },
  {
   "cell_type": "code",
   "execution_count": 28,
   "metadata": {},
   "outputs": [
    {
     "name": "stdout",
     "output_type": "stream",
     "text": [
      "[2, 'hello', 1, 9, 'learning', 0, 'machine']\n"
     ]
    },
    {
     "data": {
      "text/plain": [
       "[5, 2, 1, 9, 'learning', 0, 'machine']"
      ]
     },
     "execution_count": 28,
     "metadata": {},
     "output_type": "execute_result"
    }
   ],
   "source": [
    "#***LIST MANIPULATION*** --> change-add-remove elements\n",
    "#change list elements with slicing \n",
    "mylist = [2,5,1,9,\"learning\",0,\"machine\"]\n",
    "mylist[1] = \"hello\"\n",
    "print(mylist)\n",
    "\n",
    "#change multiple elements\n",
    "mylist[0:2] = [5,2]\n",
    "mylist"
   ]
  },
  {
   "cell_type": "code",
   "execution_count": 29,
   "metadata": {},
   "outputs": [
    {
     "data": {
      "text/plain": [
       "[5, 2, 1, 9, 'learning', 0, 'machine', 5, 2, 1, 9, 'learning', 0, 'machine']"
      ]
     },
     "execution_count": 29,
     "metadata": {},
     "output_type": "execute_result"
    }
   ],
   "source": [
    "#TRY IT! plus operator - paste together two lists   CONCATENATION LISTS\n",
    "mylist*3\n",
    "\n",
    "mylist+mylist"
   ]
  },
  {
   "cell_type": "code",
   "execution_count": 30,
   "metadata": {},
   "outputs": [
    {
     "data": {
      "text/plain": [
       "[2, 5, 9, 'learning', 0, 'machine']"
      ]
     },
     "execution_count": 30,
     "metadata": {},
     "output_type": "execute_result"
    }
   ],
   "source": [
    "mylist = [2,5,1,9,\"learning\",0,\"machine\"]\n",
    "\n",
    "del(mylist[2])\n",
    "mylist"
   ]
  },
  {
   "cell_type": "code",
   "execution_count": 31,
   "metadata": {},
   "outputs": [
    {
     "data": {
      "text/plain": [
       "['__add__',\n",
       " '__class__',\n",
       " '__class_getitem__',\n",
       " '__contains__',\n",
       " '__delattr__',\n",
       " '__delitem__',\n",
       " '__dir__',\n",
       " '__doc__',\n",
       " '__eq__',\n",
       " '__format__',\n",
       " '__ge__',\n",
       " '__getattribute__',\n",
       " '__getitem__',\n",
       " '__gt__',\n",
       " '__hash__',\n",
       " '__iadd__',\n",
       " '__imul__',\n",
       " '__init__',\n",
       " '__init_subclass__',\n",
       " '__iter__',\n",
       " '__le__',\n",
       " '__len__',\n",
       " '__lt__',\n",
       " '__mul__',\n",
       " '__ne__',\n",
       " '__new__',\n",
       " '__reduce__',\n",
       " '__reduce_ex__',\n",
       " '__repr__',\n",
       " '__reversed__',\n",
       " '__rmul__',\n",
       " '__setattr__',\n",
       " '__setitem__',\n",
       " '__sizeof__',\n",
       " '__str__',\n",
       " '__subclasshook__',\n",
       " 'append',\n",
       " 'clear',\n",
       " 'copy',\n",
       " 'count',\n",
       " 'extend',\n",
       " 'index',\n",
       " 'insert',\n",
       " 'pop',\n",
       " 'remove',\n",
       " 'reverse',\n",
       " 'sort']"
      ]
     },
     "execution_count": 31,
     "metadata": {},
     "output_type": "execute_result"
    }
   ],
   "source": [
    "#TRY IT! shows up all the BUILT-IN METHODS \n",
    "dir(mylist) "
   ]
  },
  {
   "cell_type": "code",
   "execution_count": 32,
   "metadata": {},
   "outputs": [
    {
     "data": {
      "text/plain": [
       "[2, 4, 6, 8]"
      ]
     },
     "execution_count": 32,
     "metadata": {},
     "output_type": "execute_result"
    }
   ],
   "source": [
    "# ***DEFINE LIST BY COMPREHENSION***\n",
    "listofnumbers = [1,2,3,4]\n",
    "l2 = [2*x for x in listofnumbers]\n",
    "\n",
    "#l2 = [x>2 for x in listofnumbers if x%2==0]\n",
    "l2\n"
   ]
  },
  {
   "cell_type": "code",
   "execution_count": 33,
   "metadata": {},
   "outputs": [
    {
     "ename": "TypeError",
     "evalue": "'<' not supported between instances of 'str' and 'int'",
     "output_type": "error",
     "traceback": [
      "\u001b[0;31m---------------------------------------------------------------------------\u001b[0m",
      "\u001b[0;31mTypeError\u001b[0m                                 Traceback (most recent call last)",
      "\u001b[0;32m<ipython-input-33-f85597e9e3ab>\u001b[0m in \u001b[0;36m<module>\u001b[0;34m\u001b[0m\n\u001b[1;32m      1\u001b[0m \u001b[0mmylist\u001b[0m \u001b[0;34m=\u001b[0m \u001b[0;34m[\u001b[0m\u001b[0;36m2\u001b[0m\u001b[0;34m,\u001b[0m\u001b[0;36m5\u001b[0m\u001b[0;34m,\u001b[0m\u001b[0;36m1\u001b[0m\u001b[0;34m,\u001b[0m\u001b[0;36m9\u001b[0m\u001b[0;34m,\u001b[0m\u001b[0;34m\"learning\"\u001b[0m\u001b[0;34m,\u001b[0m\u001b[0;36m0\u001b[0m\u001b[0;34m,\u001b[0m\u001b[0;34m\"machine\"\u001b[0m\u001b[0;34m]\u001b[0m\u001b[0;34m\u001b[0m\u001b[0;34m\u001b[0m\u001b[0m\n\u001b[1;32m      2\u001b[0m \u001b[0;34m\u001b[0m\u001b[0m\n\u001b[0;32m----> 3\u001b[0;31m \u001b[0mmylist\u001b[0m\u001b[0;34m.\u001b[0m\u001b[0msort\u001b[0m\u001b[0;34m(\u001b[0m\u001b[0;34m)\u001b[0m  \u001b[0;31m# it doesn't make sense....heterogeneous data\u001b[0m\u001b[0;34m\u001b[0m\u001b[0;34m\u001b[0m\u001b[0m\n\u001b[0m",
      "\u001b[0;31mTypeError\u001b[0m: '<' not supported between instances of 'str' and 'int'"
     ]
    }
   ],
   "source": [
    "mylist = [2,5,1,9,\"learning\",0,\"machine\"]\n",
    "\n",
    "mylist.sort()  # it doesn't make sense....heterogeneous data"
   ]
  },
  {
   "cell_type": "code",
   "execution_count": 38,
   "metadata": {},
   "outputs": [
    {
     "data": {
      "text/plain": [
       "[1, 3, 4, 5]"
      ]
     },
     "execution_count": 38,
     "metadata": {},
     "output_type": "execute_result"
    }
   ],
   "source": [
    "l2 = [1,5,3,4]\n",
    "#sort a list\n",
    "l2.sort()\n",
    "l2"
   ]
  },
  {
   "cell_type": "code",
   "execution_count": 39,
   "metadata": {},
   "outputs": [
    {
     "data": {
      "text/plain": [
       "'2 : 5 : 1 : 9 : learning : 0 : machine'"
      ]
     },
     "execution_count": 39,
     "metadata": {},
     "output_type": "execute_result"
    }
   ],
   "source": [
    "# concatenating lists to string\n",
    "mylist = [2,5,1,9,\"learning\",0,\"machine\"]\n",
    "\n",
    "\n",
    "' : '.join([str(x) for x in mylist])"
   ]
  },
  {
   "cell_type": "code",
   "execution_count": 40,
   "metadata": {},
   "outputs": [],
   "source": [
    "# ***COPYING A LIST***\n",
    "# Create list areas\n",
    "areas = [11.25, 18.0, 20.0, 10.75, 9.50] \n",
    "# areas contains the reference to the list \n",
    "\n",
    "# Create areas_copy\n",
    "areas_copy = areas # is not a copy is an alias !!!!\n",
    "# you are copying the reference to the list but not the list itself\n",
    "\n",
    "# Change areas_copy\n",
    "areas_copy[0] = 5.0 #it changes the areas too!\n",
    "\n",
    "#check out areas now!\n",
    "#both areas_copy and areas points to the same list in memory"
   ]
  },
  {
   "cell_type": "code",
   "execution_count": 41,
   "metadata": {},
   "outputs": [
    {
     "data": {
      "text/plain": [
       "[5.0, 18.0, 20.0, 10.75, 9.5]"
      ]
     },
     "execution_count": 41,
     "metadata": {},
     "output_type": "execute_result"
    }
   ],
   "source": [
    "areas"
   ]
  },
  {
   "cell_type": "code",
   "execution_count": 42,
   "metadata": {},
   "outputs": [
    {
     "name": "stdout",
     "output_type": "stream",
     "text": [
      "[5.0, 18.0, 20.0, 10.75, 9.5]\n"
     ]
    }
   ],
   "source": [
    "#Three ways to properly copying a list a and assign it to b\n",
    "# 1 # b = list(a) Copying using list() function #The list() function is used to create a list object from any iterable.\n",
    "# 2 # b = a[:] copy by slicing... creates a new object id(a) and id(b) returns the address of a python object in the memory.\n",
    "# 3 # only python 3... use \n",
    "b = list(areas) \n",
    "b = areas[:]\n",
    "b = areas.copy()\n",
    "\n",
    "# Print areas\n",
    "print(areas)"
   ]
  },
  {
   "cell_type": "markdown",
   "metadata": {},
   "source": [
    "### Loop on a List"
   ]
  },
  {
   "cell_type": "code",
   "execution_count": 43,
   "metadata": {},
   "outputs": [
    {
     "name": "stdout",
     "output_type": "stream",
     "text": [
      "5.0\n",
      "18.0\n",
      "20.0\n",
      "10.75\n",
      "9.5\n"
     ]
    }
   ],
   "source": [
    "for x in areas : \n",
    "    print(x)\n"
   ]
  },
  {
   "cell_type": "markdown",
   "metadata": {},
   "source": [
    "## Python Dictionaries\n",
    "A Dictionary is a collection of labelled items organized in key-value pairs, such as:\n",
    "\n",
    "<code>\n",
    "    a_dict = {'key1': value1, 'key2': 'value2', ... }\n",
    "</code>\n",
    "\n",
    "They are the most powerful data collection in python and are supported, with alternative names, in many other programming languages. Dictionary elements are addressed through their label and can be modified as needed.\n",
    "\n",
    "#### Examples"
   ]
  },
  {
   "cell_type": "code",
   "execution_count": 44,
   "metadata": {},
   "outputs": [
    {
     "data": {
      "text/plain": [
       "{'AI': 'Artificial Intelligence', 'ML': 'Machine Learning'}"
      ]
     },
     "execution_count": 44,
     "metadata": {},
     "output_type": "execute_result"
    }
   ],
   "source": [
    "#How to create a dictionary\n",
    "abbreviations = {}\n",
    "abbreviations[\"AI\"] = \"Artificial Intelligence\"\n",
    "abbreviations[\"ML\"] = \"Machine Learning\"\n",
    "abbreviations"
   ]
  },
  {
   "cell_type": "code",
   "execution_count": 45,
   "metadata": {},
   "outputs": [
    {
     "name": "stdout",
     "output_type": "stream",
     "text": [
      "{'AI': 'Artificial Intelligence', 'ML': 'Machine Learning'}\n"
     ]
    }
   ],
   "source": [
    "print(abbreviations)"
   ]
  },
  {
   "cell_type": "code",
   "execution_count": 46,
   "metadata": {},
   "outputs": [
    {
     "data": {
      "text/plain": [
       "dict_keys(['AI', 'ML'])"
      ]
     },
     "execution_count": 46,
     "metadata": {},
     "output_type": "execute_result"
    }
   ],
   "source": [
    "abbreviations.keys() #print out the keys"
   ]
  },
  {
   "cell_type": "code",
   "execution_count": 47,
   "metadata": {},
   "outputs": [
    {
     "data": {
      "text/plain": [
       "True"
      ]
     },
     "execution_count": 47,
     "metadata": {},
     "output_type": "execute_result"
    }
   ],
   "source": [
    "\"ML\" in abbreviations #check if a key is in my dictionary"
   ]
  },
  {
   "cell_type": "code",
   "execution_count": 48,
   "metadata": {},
   "outputs": [
    {
     "name": "stdout",
     "output_type": "stream",
     "text": [
      "AI stands for Artificial Intelligence \n",
      "\n",
      "ML stands for Machine Learning \n",
      "\n"
     ]
    }
   ],
   "source": [
    "#loop into a dictionary and print all the key-value pairs\n",
    "for a,b in abbreviations.items():\n",
    "    print(\"%s stands for %s \\n\" % (a,b)) \n"
   ]
  },
  {
   "cell_type": "code",
   "execution_count": 49,
   "metadata": {},
   "outputs": [],
   "source": [
    "#TRY IT!\n",
    "#del abbreviations[\"AI\"] \n",
    "\n",
    "abbreviations.clear()"
   ]
  },
  {
   "cell_type": "code",
   "execution_count": 50,
   "metadata": {},
   "outputs": [
    {
     "data": {
      "text/plain": [
       "{}"
      ]
     },
     "execution_count": 50,
     "metadata": {},
     "output_type": "execute_result"
    }
   ],
   "source": [
    "abbreviations"
   ]
  },
  {
   "cell_type": "markdown",
   "metadata": {},
   "source": [
    "## Tuples"
   ]
  },
  {
   "cell_type": "markdown",
   "metadata": {},
   "source": [
    "- Ordered collections of arbitrary objects\n",
    "- Immutable\n",
    "\n",
    "A Tuple is a collection of items that cannot be altered once created. It is an **immutable** list.\n",
    "\n",
    "<code>\n",
    "    a_tuple = (item1, item2, ... )\n",
    "</code>\n",
    "\n",
    "Note that lists are declared with square brackets, whereas tuples make use of round brackets. Tuple elements can be copied into variables with a single assignment for all variables.\n",
    "\n",
    "#### Examples"
   ]
  },
  {
   "cell_type": "code",
   "execution_count": 51,
   "metadata": {},
   "outputs": [
    {
     "data": {
      "text/plain": [
       "(1, 2, 3, 4)"
      ]
     },
     "execution_count": 51,
     "metadata": {},
     "output_type": "execute_result"
    }
   ],
   "source": [
    "T = (1,2,3,4)\n",
    "T + (5,6) #immutable\n",
    "T[0]\n",
    "T.index(4)\n",
    "#T.count(4)\n",
    "#T[0] = 2\n",
    "T"
   ]
  },
  {
   "cell_type": "markdown",
   "metadata": {},
   "source": [
    "## Sets"
   ]
  },
  {
   "cell_type": "markdown",
   "metadata": {},
   "source": [
    "Unordered collections of unique and immutable\n",
    "objects"
   ]
  },
  {
   "cell_type": "code",
   "execution_count": 52,
   "metadata": {},
   "outputs": [
    {
     "name": "stdout",
     "output_type": "stream",
     "text": [
      "{0, 1, 64, 4, 36, 9, 16, 49, 81, 25}\n"
     ]
    }
   ],
   "source": [
    "a_set = set(range(10))\n",
    "a_set\n",
    "b={x**2 for x in a_set}\n",
    "\n",
    "print(b)\n",
    "#{x for x in a_set if x % 2 == 0}\n",
    "#{2**x for x in range(10)}\n",
    "#a_set"
   ]
  },
  {
   "cell_type": "code",
   "execution_count": 55,
   "metadata": {},
   "outputs": [
    {
     "name": "stdout",
     "output_type": "stream",
     "text": [
      "[1, 2, 3, 4]\n"
     ]
    }
   ],
   "source": [
    "# very convenient if you want to remove duplicates\n",
    "\n",
    "mylist = [1,2,3,4,1]\n",
    "\n",
    "print(list(set(mylist)))"
   ]
  },
  {
   "cell_type": "markdown",
   "metadata": {},
   "source": [
    "## Dates and time"
   ]
  },
  {
   "cell_type": "code",
   "execution_count": 56,
   "metadata": {},
   "outputs": [],
   "source": [
    "from datetime import date, time, datetime"
   ]
  },
  {
   "cell_type": "code",
   "execution_count": 57,
   "metadata": {},
   "outputs": [
    {
     "name": "stdout",
     "output_type": "stream",
     "text": [
      "2021-09-30\n",
      "11:33:20\n",
      "2020-09-17 11:00:00\n"
     ]
    }
   ],
   "source": [
    "print(date(year=2021, month=9, day=30))# print(date(2020,9,17))\n",
    "print(time(hour=11, minute=33, second=20))\n",
    "print(datetime(year=2020, month=9, day=17, hour=11, minute=0, second=0))\n"
   ]
  },
  {
   "cell_type": "code",
   "execution_count": 58,
   "metadata": {},
   "outputs": [
    {
     "name": "stdout",
     "output_type": "stream",
     "text": [
      "2024-11-18\n"
     ]
    }
   ],
   "source": [
    "t=date.today()\n",
    "print(t)"
   ]
  },
  {
   "cell_type": "code",
   "execution_count": 59,
   "metadata": {},
   "outputs": [
    {
     "name": "stdout",
     "output_type": "stream",
     "text": [
      "Day : 18\n",
      "Month : 11\n",
      "Year : 2024\n"
     ]
    }
   ],
   "source": [
    "print('Day :',t.day)\n",
    "# month\n",
    "print('Month :',t.month)\n",
    "# year\n",
    "print('Year :',t.year)"
   ]
  },
  {
   "cell_type": "code",
   "execution_count": 60,
   "metadata": {},
   "outputs": [
    {
     "name": "stdout",
     "output_type": "stream",
     "text": [
      "2024-11-18 10:53:14.768780\n"
     ]
    }
   ],
   "source": [
    "now=datetime.now()\n",
    "print(now)\n"
   ]
  },
  {
   "cell_type": "code",
   "execution_count": 61,
   "metadata": {},
   "outputs": [
    {
     "name": "stdout",
     "output_type": "stream",
     "text": [
      "0\n",
      "1\n"
     ]
    }
   ],
   "source": [
    "print(now.weekday()) # from monday\n",
    "print(now.isoweekday()) # from sunday"
   ]
  },
  {
   "cell_type": "code",
   "execution_count": 62,
   "metadata": {
    "scrolled": true
   },
   "outputs": [
    {
     "name": "stdout",
     "output_type": "stream",
     "text": [
      "92 days, 13:59:59\n"
     ]
    }
   ],
   "source": [
    "date1 = datetime(2021,9,30,10,0,0)\n",
    "date2 = datetime(2021,12,31,23,59,59)\n",
    "difference = date2-date1\n",
    "print(difference)\n"
   ]
  },
  {
   "cell_type": "code",
   "execution_count": 63,
   "metadata": {},
   "outputs": [
    {
     "name": "stdout",
     "output_type": "stream",
     "text": [
      "seconds : 133319.98333333334\n"
     ]
    }
   ],
   "source": [
    "from datetime import timedelta\n",
    "# duration in seconds\n",
    "print('seconds :',difference/timedelta(minutes=1))#days, hours,seconds"
   ]
  },
  {
   "cell_type": "markdown",
   "metadata": {},
   "source": [
    "## Python Function\n",
    "*Functions are self-contained modules that can accomplish a specific task*: they can take some data as an input and return a result after processing.\n",
    "\n",
    "Functions are useful to\n",
    "* increment code reuse\n",
    "* reduce code complexity by dividing it into logical chunks\n",
    "* provide a library of tools to be used across different applications\n",
    "\n",
    "In Python we have:\n",
    "\n",
    "* **built-in** functions, provided as part of the language itself, e.g. <code>print(), type()</code>;\n",
    "* **user-defined** functions, written by programmers to create reusable code snippets.\n",
    "\n",
    "Please note that **built-in** functions are treated as reserved keywords and therefore cannot be used as variable names.\n",
    "\n",
    "A function can be defined through the <code>def</code> keyword, may have arguments and may return one or more values. The definition of a function does not execute its code.\n",
    "\n",
    "<code>\n",
    "    def my_func(param1, param2, ...):\n",
    "        # this is the function body and it MUST be indented\n",
    "        # with respect to function definition keyword\n",
    "    \n",
    "        ... do some processing ...\n",
    "    \n",
    "        # return results\n",
    "        return output_values\n",
    "</code>\n",
    "\n",
    "The variables between brackets are placeholders for the function inputs and are termed **parameters**; when a function is invoked, or called, these placeholders are replaced by the **arguments** and the function code is executed. Each time a function is called, we can pass different arguments.\n",
    "\n",
    "<code>\n",
    "    arg1 = 'hello'\n",
    "    arg2 = 12.4\n",
    "    ... other arguments ...\n",
    "    \n",
    "    # assign return value to a variable\n",
    "    ret = my_func(arg1, arg2, ...):\n",
    "</code>\n",
    "A function may have zero or more parameters, which in python can also be optional. Moreover, the output of a function can be used as argument to another one.\n",
    "\n",
    "#### Examples"
   ]
  },
  {
   "cell_type": "code",
   "execution_count": 64,
   "metadata": {},
   "outputs": [],
   "source": [
    "#how to define a simple python function\n",
    "def my_function():\n",
    "    print(\"Hello from a function\") "
   ]
  },
  {
   "cell_type": "code",
   "execution_count": 65,
   "metadata": {},
   "outputs": [
    {
     "name": "stdout",
     "output_type": "stream",
     "text": [
      "Hello from a function\n"
     ]
    }
   ],
   "source": [
    "my_function()"
   ]
  },
  {
   "cell_type": "code",
   "execution_count": 66,
   "metadata": {},
   "outputs": [
    {
     "data": {
      "text/plain": [
       "36"
      ]
     },
     "execution_count": 66,
     "metadata": {},
     "output_type": "execute_result"
    }
   ],
   "source": [
    "#how to define a simple python function\n",
    "def square(n):\n",
    "    return n**2\n",
    "\n",
    "square(6)"
   ]
  },
  {
   "cell_type": "code",
   "execution_count": 67,
   "metadata": {},
   "outputs": [
    {
     "data": {
      "text/plain": [
       "(1, 6)"
      ]
     },
     "execution_count": 67,
     "metadata": {},
     "output_type": "execute_result"
    }
   ],
   "source": [
    "#Write a function returning the min and the max values in the list\n",
    "def minmax(data):\n",
    "    \n",
    "    min_value = data[0] #assuming not empty \n",
    "    max_value = data[0] #assuming not empty\n",
    "    \n",
    "    for i in data:\n",
    "        if i < min_value:\n",
    "            min_value=i\n",
    "        elif i > max_value:\n",
    "            max_value=i\n",
    "            \n",
    "    return min_value,max_value\n",
    "\n",
    "data = [2,3,1,6]\n",
    "minmax(data)"
   ]
  },
  {
   "cell_type": "code",
   "execution_count": 68,
   "metadata": {},
   "outputs": [
    {
     "name": "stdout",
     "output_type": "stream",
     "text": [
      "78.5\n",
      "20\n",
      "6.0\n",
      "Shape not recognized.\n",
      "-1\n"
     ]
    }
   ],
   "source": [
    "def calculate_area(shape: str, dimension1: float, dimension2: float = 0.0) -> float:\n",
    "    \"\"\"\n",
    "    Calculate the area of a geometric shape.\n",
    "\n",
    "    Parameters:\n",
    "    - shape (str): The type of shape ('circle', 'rectangle', 'triangle')\n",
    "    - dimension1 (float): The primary dimension of the shape (radius for circle, base for triangle, width for rectangle)\n",
    "    - dimension2 (float, optional): The secondary dimension of the shape (height for rectangle and triangle). Default is 0.0.\n",
    "\n",
    "    Returns:\n",
    "    float: The area of the shape. Returns -1 if the shape is not recognized.\n",
    "    \"\"\"\n",
    "\n",
    "    if shape == 'circle':\n",
    "        return 3.14 * (dimension1 ** 2)\n",
    "    elif shape == 'rectangle':\n",
    "        return dimension1 * dimension2\n",
    "    elif shape == 'triangle':\n",
    "        return 0.5 * dimension1 * dimension2\n",
    "    else:\n",
    "        print(\"Shape not recognized.\")\n",
    "        return -1\n",
    "\n",
    "# Test the function\n",
    "print(calculate_area('circle', 5))\n",
    "print(calculate_area('rectangle', 4, 5))\n",
    "print(calculate_area('triangle', 3, 4))\n",
    "print(calculate_area('hexagon', 3, 4))"
   ]
  },
  {
   "cell_type": "markdown",
   "metadata": {},
   "source": [
    "## Control Flow constructs in Python"
   ]
  },
  {
   "cell_type": "code",
   "execution_count": null,
   "metadata": {},
   "outputs": [
    {
     "data": {
      "text/plain": [
       "True"
      ]
     },
     "execution_count": 68,
     "metadata": {},
     "output_type": "execute_result"
    }
   ],
   "source": [
    "#IF  It is used to decide whether a certain statement or block of statements will be executed or not \n",
    "#That means that: if a certain condition is true then a block of statement is executed otherwise not.\n",
    "\n",
    "#How to use the IF statement into a function\n",
    "def is_multiple(n,m):\n",
    "    if m!=0 and n%m==0: #the remainder after division \n",
    "        return True\n",
    "    else:\n",
    "        return False\n",
    "    \n",
    "is_multiple(8,2) "
   ]
  },
  {
   "cell_type": "code",
   "execution_count": null,
   "metadata": {},
   "outputs": [
    {
     "data": {
      "text/plain": [
       "False"
      ]
     },
     "execution_count": 69,
     "metadata": {},
     "output_type": "execute_result"
    }
   ],
   "source": [
    "#This is the same function but written in a more Pythonic way :)\n",
    "def is_multiple(n,m):\n",
    "    return m!=0 and n%m==0\n",
    "    \n",
    "is_multiple(5,2) "
   ]
  },
  {
   "cell_type": "code",
   "execution_count": null,
   "metadata": {},
   "outputs": [
    {
     "name": "stdout",
     "output_type": "stream",
     "text": [
      "55\n"
     ]
    }
   ],
   "source": [
    "#FOR: A for loop is used for iterating over a sequence\n",
    "\n",
    "#example of the use of a for loop to calculate the sum of the squares of the first n numbers\n",
    "sum_squares = 0\n",
    "n = 5\n",
    "\n",
    "for i in range(n+1):  \n",
    "    sum_squares+=i**2 \n",
    "        \n",
    "print(sum_squares)\n",
    "\n",
    "#range(5)"
   ]
  },
  {
   "cell_type": "code",
   "execution_count": null,
   "metadata": {},
   "outputs": [
    {
     "data": {
      "text/plain": [
       "True"
      ]
     },
     "execution_count": 71,
     "metadata": {},
     "output_type": "execute_result"
    }
   ],
   "source": [
    "#WHILE A while loop statement in Python repeatedly executes a target statement as long as a given condition is true.\n",
    "\n",
    "#example of a function using a while loop\n",
    "def is_even(k):\n",
    "    while k>0:\n",
    "        k=k-2\n",
    "        \n",
    "    return k==0\n",
    "    \n",
    "\n",
    "is_even(8)"
   ]
  },
  {
   "cell_type": "code",
   "execution_count": null,
   "metadata": {},
   "outputs": [
    {
     "data": {
      "text/plain": [
       "3628800"
      ]
     },
     "execution_count": 72,
     "metadata": {},
     "output_type": "execute_result"
    }
   ],
   "source": [
    "# or just made it by recursion\n",
    "def fact(n):\n",
    "    if n==1 :\n",
    "        return 1\n",
    "    else :\n",
    "        return n*fact(n-1)\n",
    "    \n",
    "fact(10)"
   ]
  },
  {
   "cell_type": "code",
   "execution_count": null,
   "metadata": {},
   "outputs": [
    {
     "data": {
      "text/plain": [
       "120"
      ]
     },
     "execution_count": 99,
     "metadata": {},
     "output_type": "execute_result"
    }
   ],
   "source": [
    "#How to import a Python module into your script\n",
    "\n",
    "#you can import the entire library\n",
    "import math\n",
    "math.factorial(5) #1*2*3*4*5\n",
    "\n",
    "#or import just the function you need\n",
    "from math import factorial\n",
    "factorial(5) #1*2*3*4*5\n",
    "    "
   ]
  },
  {
   "cell_type": "markdown",
   "metadata": {},
   "source": [
    "## Try by yourself!\n",
    "\n",
    "Write a function that \n",
    "- given two integer numbers (a,b) compute the greatest common divisor between them.\n",
    "- given a list of numbers compute the second largest number in the list."
   ]
  },
  {
   "cell_type": "code",
   "execution_count": null,
   "metadata": {},
   "outputs": [],
   "source": []
  },
  {
   "cell_type": "markdown",
   "metadata": {},
   "source": [
    "## Classes (Objects)\n",
    "\n",
    "**Encapsulation**: Classes allow you to bundle data (attributes) and methods (functions) that operate on the data into a single unit. This makes it easier to manage and maintain code.\n",
    "\n",
    "**Abstraction**: Classes can hide the complex implementation details and expose only the essential features of an object. This makes it easier for other developers to use and understand your code without needing to know all the underlying details.\n",
    "\n",
    "**Inheritance**: Classes allow for the creation of a new class based on an existing one, inheriting its attributes and methods. This promotes code reuse and establishes a hierarchy between classes.\n",
    "\n",
    "**Polymorphism**: Different classes can be treated as instances of the same class through inheritance. This provides flexibility in using objects as if they're of the same type, even if they come from different classes.\n",
    "\n",
    "**Model Real-World Objects**: OOP is a paradigm that models the real world. In the real world, we deal with objects (like cars, animals, humans) that have attributes (like color, weight, name) and can perform actions (methods). Classes provide a blueprint to model and simulate these real-world entities in software.\n",
    "\n",
    "**Design Principle**: Classes and OOP lead to better-organized and structured code, making it more readable and maintainable."
   ]
  },
  {
   "cell_type": "code",
   "execution_count": 69,
   "metadata": {},
   "outputs": [],
   "source": [
    "class Car:\n",
    "    def __init__(self, make, model, year, color='red', xyz=(.0, .0, .0)):\n",
    "        self.make = make\n",
    "        self.model = model\n",
    "        self.year = year\n",
    "        self.color = color\n",
    "        self.speed = 0\n",
    "        self.xyz = xyz\n",
    "\n",
    "    def accelerate(self):\n",
    "        self.speed += 5\n",
    "        print(f\"The car has accelerated. Current speed: {self.speed} kmh\")\n",
    "\n",
    "    def brake(self):\n",
    "        if self.speed > 5:\n",
    "            self.speed -= 5\n",
    "        elif self.speed < -5:\n",
    "            self.speed += 5\n",
    "        else: self.speed = 0\n",
    "        print(f\"The car has slowed down. Current speed: {self.speed} kmh\")\n",
    "\n",
    "    def display_info(self):\n",
    "        print(f\"Car Information: {self.year} {self.make} {self.model} in {self.color}\")"
   ]
  },
  {
   "cell_type": "code",
   "execution_count": 70,
   "metadata": {},
   "outputs": [
    {
     "name": "stdout",
     "output_type": "stream",
     "text": [
      "Car Information: 1972 Fiat 500L in Orange\n",
      "The car has accelerated. Current speed: 5 kmh\n",
      "The car has slowed down. Current speed: 0 kmh\n"
     ]
    }
   ],
   "source": [
    "# Creating an object my_car of the Car class\n",
    "my_car = Car(\"Fiat\", \"500L\", 1972, \"Orange\")\n",
    "\n",
    "# Display car information\n",
    "my_car.display_info()\n",
    "\n",
    "# Accelerate the car\n",
    "my_car.accelerate()\n",
    "\n",
    "# Brake the car\n",
    "my_car.brake()"
   ]
  }
 ],
 "metadata": {
  "kernelspec": {
   "display_name": "Python 3 (ipykernel)",
   "language": "python",
   "name": "python3"
  },
  "language_info": {
   "codemirror_mode": {
    "name": "ipython",
    "version": 3
   },
   "file_extension": ".py",
   "mimetype": "text/x-python",
   "name": "python",
   "nbconvert_exporter": "python",
   "pygments_lexer": "ipython3",
   "version": "3.9.7"
  }
 },
 "nbformat": 4,
 "nbformat_minor": 4
}
